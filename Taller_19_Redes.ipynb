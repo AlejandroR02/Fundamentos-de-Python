{
  "nbformat": 4,
  "nbformat_minor": 0,
  "metadata": {
    "colab": {
      "provenance": [],
      "toc_visible": true,
      "authorship_tag": "ABX9TyP+m8yc/dVy6oyfvRkvbo7b",
      "include_colab_link": true
    },
    "kernelspec": {
      "name": "python3",
      "display_name": "Python 3"
    },
    "language_info": {
      "name": "python"
    }
  },
  "cells": [
    {
      "cell_type": "markdown",
      "metadata": {
        "id": "view-in-github",
        "colab_type": "text"
      },
      "source": [
        "<a href=\"https://colab.research.google.com/github/gabrielawad/talleresGoogleColab/blob/main/Taller_19_Redes.ipynb\" target=\"_parent\"><img src=\"https://colab.research.google.com/assets/colab-badge.svg\" alt=\"Open In Colab\"/></a>"
      ]
    },
    {
      "cell_type": "markdown",
      "source": [
        "## «*Los peces no ven el agua*».\n",
        "### [Hayashi Tadasu](https://es.wikipedia.org/wiki/Hayashi_Tadasu)"
      ],
      "metadata": {
        "id": "cbO3rYOOKwI5"
      }
    },
    {
      "cell_type": "markdown",
      "source": [
        "# Taller 19 redes\n",
        "\n",
        "En este taller se presenten los conceptos básicos relativos a la solución de problemas de redes con CVXPY.\n",
        "\n"
      ],
      "metadata": {
        "id": "r3QaewbQLmlI"
      }
    },
    {
      "metadata": {
        "id": "Etd4N1l8fsBg"
      },
      "cell_type": "markdown",
      "source": [
        "# Algunas características especiales de CVXPY (repaso)\n",
        "\n",
        "CVXPY contiene algunos métodos especiales que facilitan el trabajo con matrices. \n",
        "\n",
        "El método **sum** permite sumar los elementos de filas, columnas y de toda la matriz.\n",
        "\n",
        "El método **multiply** multiplica dos matrices, posición a posición"
      ]
    },
    {
      "metadata": {
        "id": "Mv-3v2QKf-QH"
      },
      "cell_type": "code",
      "source": [
        "# Importar las librerías que se van a utilizar\n",
        "import numpy as np\n",
        "import cvxpy as cvx\n",
        "from cvxopt import solvers\n",
        "\n",
        "# Definir la matriz d con dimensión (3,4) e ingresar sus valores\n",
        "d=cvx.Parameter((3,4))\n",
        "\n",
        "# Ingresar los valores de d. Cada corchete representa una columna\n",
        "d.value=[[0,1,2],[3,4,5],[6,7,8],[9,10,11]]\n",
        "\n",
        "# Mostrar el contenido de los valores de d\n",
        "print(\"Los valores contenidos en d son:\\n\", d.value,\"\\n\")\n",
        "\n",
        "# Mostrar la primera fila de d\n",
        "print(\"Los valores contenidos en la fila 0 de d son:\\n\", d[0,:].value, \"\\n\")\n",
        "\n",
        "# Sumar los valores de una fila\n",
        "dfila0 = sum(d[0, :].value)\n",
        "\n",
        "# Mostrar la suma de los elementos de la fila\n",
        "print (\"La suma de los elementos de la fila 0 es:\", dfila0, \"\\n\")\n",
        "\n",
        "# Mostrar la segunda columna de d\n",
        "print(\"Los valores contenidos en la columna 1 de d son:\\n\", d[:,1].value, \"\\n\")\n",
        "\n",
        "# Sumar los valores de una columna\n",
        "dcol1 = sum(d[:, 1].value)\n",
        "\n",
        "# Mostrar la suma de los elementos de una columna\n",
        "print (\"La suma de los elementos de la columna 1 es:\", dcol1, \"\\n\")\n",
        "\n",
        "# Multiplicar la matriz d por la matriz d utilizando multiply equivale\n",
        "# a elevar al cuadrado cada una de las posiciones de la matriz d\n",
        "g = cvx.multiply (d,d)\n",
        "\n",
        "# Mostrar el contenido de los valores de g\n",
        "print(\"Los valores contenidos en g son:\\n\", g.value,\"\\n\")"
      ],
      "execution_count": null,
      "outputs": []
    },
    {
      "metadata": {
        "id": "ZRL1pBtOjVt2"
      },
      "cell_type": "markdown",
      "source": [
        "# El problema de asignación como un caso de redes\n",
        "\n",
        "A continuación se presenta un ejemplo del problema de asignación resuelto como si fuera un problemas de redes. \n",
        "\n",
        "En vez de una lista con nueve posiciones se va a utilizar una matriz de tres filas (origen = hijos) y tres columnas (destino = tareas)."
      ]
    },
    {
      "metadata": {
        "id": "RlN0pfIydYWL"
      },
      "cell_type": "markdown",
      "source": [
        "# Problema de asignación (caso trivial)\n",
        "\n",
        "Tres hermanos Jaime, Pipe y Linda, quieren ganar algún dinero para cubrir sus gastos de celular del mes actual. \n",
        "Su padre ha diseñado tres posibles tareas para ayudarle en este tema a sus hijos: lavar a mano los tenis, planchar las camisas de cuello y bañar los tres gatos. El padre le pidió a cada hijo que entregara un papel secreto donde se indicara el pago que cada hijo consideraría justo por cada una de las tareas. Los hermanos se comprometieron a aceptar la asignación de tareas que finalmente haga su padre. \n",
        "\n",
        "Las cotizaciones presentadas por los hijos fueron:\n",
        "* Jaime: 15 por lavar tenis, 10 por planchar camisas, 9 por bañar gatos\n",
        "* Pipe: 9 por lavar tenis, 15 por planchar camisas, 10 por bañar gatos\n",
        "* Linda: 10 por lavar tenis, 12 por planchar camisas, 8 por bañar gatos\n",
        "\n",
        "¿Qué tareas debería asignar el padre a cada hijo, con el fin de gastar lo menos posible?\n",
        "Tenga en cuenta que cada tarea puede ser asignada solamente una vez, y que cada hermano debe tener como mínimo una tarea por realizar.\n"
      ]
    },
    {
      "metadata": {
        "id": "49pWTdsLddUt"
      },
      "cell_type": "code",
      "source": [
        "# Importar las librerías que se van a utilizar\n",
        "import numpy as np\n",
        "import cvxpy as cvx\n",
        "from cvxopt import solvers\n",
        "\n",
        "# Crear las variables a optimizar. Las filas corresponden a los hijos \n",
        "# y las columnas a las tareas\n",
        "x = cvx.Variable((3,3), boolean =True)\n",
        "\n",
        "# Crear la matriz con los coeficientes de costos. \n",
        "# Cada corchete representa una columna, no una fila\n",
        "c=cvx.Parameter((3,3))\n",
        "c.value=[[15, 9, 10],[10, 15, 12],[9, 10, 8]]\n",
        "\n",
        "print (\"Los valores contenidos en c son:\\n\" , c.value, \"\\n\")\n",
        "\n",
        "nombres = [\"Jaime\", \"Pipe\", \"Linda\"]\n",
        "\n",
        "tareas =[\"lava tenis\", \"plancha camisas\", \"baña gatos\"]\n",
        "\n",
        "# Definir la función objetivo utilizando sum y multiply\n",
        "obj_00=cvx.Minimize(cvx.sum(cvx.multiply(c,x)))\n",
        "\n",
        "# Establecer las restricciones\n",
        "restricciones_00 = [\n",
        "    # Restricciones de Jaime\n",
        "    cvx.sum(x[0,:])==1,\n",
        "    # Restricciones de Pipe\n",
        "    cvx.sum(x[1,:])==1,\n",
        "    # Restricciones de Linda\n",
        "    cvx.sum(x[2,:])==1,\n",
        "    # Restricciones de lavar tenis\n",
        "    cvx.sum(x[:,0])==1,\n",
        "    # Restricciones de planchar camisas\n",
        "    cvx.sum(x[:,1])==1,\n",
        "    # Restricciones de bañar gatos\n",
        "    cvx.sum(x[:,2])==1    \n",
        "] \n",
        "\n",
        "# Configurar el problema\n",
        "prob_00 = cvx.Problem(obj_00, restricciones_00)\n",
        "\n",
        "# Obtener el valor óptimo\n",
        "prob_00.solve()\n",
        "\n",
        "# Mostrar el estado de la solución y el valor óptimo de la función objetivo\n",
        "print(\"Estado de la solución:\", prob_00.status,\"\\n\" \n",
        "      + \"El costo total de las tareas será:\", \"%.2f\"% prob_00.value, \"\\n\")\n",
        "\n",
        "# Copiar los valores óptimos de las variables de decisión en una matriz de NumPy\n",
        "newX = np.round(x.value)\n",
        "\n",
        "# Mostrar las asignaciones\n",
        "for i in range (0,3):\n",
        "    for j in range (0,3):\n",
        "        # Seleccionar los valores de la solución iguales a 1.\n",
        "        if newX[i,j]== 1:\n",
        "            # Mostrar nombre, tarea y costo\n",
        "            print(nombres[i], tareas[j], \"y cobra\", c[i,j].value)"
      ],
      "execution_count": null,
      "outputs": []
    },
    {
      "cell_type": "markdown",
      "source": [
        "# Ejercicios\n",
        "\n",
        "Resuelva los tres ejercicios propuestos en el [Taller 07 redes con CVXPY](https://docs.google.com/document/d/1cGwayV5jj-nNJV3HEZXU1I22IaOEv3ub37aO9QcROwg/edit?usp=sharing)."
      ],
      "metadata": {
        "id": "Rky3YFf7pkYl"
      }
    },
    {
      "cell_type": "markdown",
      "source": [
        "## Distribución de producción"
      ],
      "metadata": {
        "id": "9hinwl3ip0dt"
      }
    },
    {
      "cell_type": "code",
      "source": [],
      "metadata": {
        "id": "8zVM_lLAp8Ik"
      },
      "execution_count": null,
      "outputs": []
    },
    {
      "cell_type": "markdown",
      "source": [
        "## Minimizar tiempo de ejecución"
      ],
      "metadata": {
        "id": "Z_4FZMjWp9HO"
      }
    },
    {
      "cell_type": "code",
      "source": [],
      "metadata": {
        "id": "Wh3031MZqDEc"
      },
      "execution_count": null,
      "outputs": []
    },
    {
      "cell_type": "markdown",
      "source": [
        "## Empleados de un call center"
      ],
      "metadata": {
        "id": "5eNr4kZaqF1_"
      }
    },
    {
      "cell_type": "code",
      "source": [],
      "metadata": {
        "id": "HC1_IMb1qLvc"
      },
      "execution_count": null,
      "outputs": []
    }
  ]
}