{
  "nbformat": 4,
  "nbformat_minor": 0,
  "metadata": {
    "colab": {
      "provenance": [],
      "toc_visible": true,
      "authorship_tag": "ABX9TyNQD1/MnAsD+mgj4KMC3PIS",
      "include_colab_link": true
    },
    "kernelspec": {
      "name": "python3",
      "display_name": "Python 3"
    },
    "language_info": {
      "name": "python"
    }
  },
  "cells": [
    {
      "cell_type": "markdown",
      "metadata": {
        "id": "view-in-github",
        "colab_type": "text"
      },
      "source": [
        "<a href=\"https://colab.research.google.com/github/gabrielawad/talleresGoogleColab/blob/main/Taller_20_CPM_PERT.ipynb\" target=\"_parent\"><img src=\"https://colab.research.google.com/assets/colab-badge.svg\" alt=\"Open In Colab\"/></a>"
      ]
    },
    {
      "cell_type": "markdown",
      "source": [
        "## «Nadie es perfecto en este mundo imperfecto».\n",
        "### [Patrice Lumumba](https://es.wikipedia.org/wiki/Patrice_Lumumba)"
      ],
      "metadata": {
        "id": "JtuKfSGspvkg"
      }
    },
    {
      "metadata": {
        "id": "zgjocYYq8zTI"
      },
      "cell_type": "markdown",
      "source": [
        "# Taller 20 CPM y PERT\n",
        "\n",
        "En este taller se presentan los pasos para resolver ejercicios de CPM (ruta crítica) y PERT utilizando Python."
      ]
    },
    {
      "metadata": {
        "id": "ziAADyLztPE3"
      },
      "cell_type": "markdown",
      "source": [
        "## Paso 0.0: Importar las librerías requeridas"
      ]
    },
    {
      "metadata": {
        "id": "FGtS11Ybs4at"
      },
      "cell_type": "code",
      "source": [
        "# Importar las librerías requeridas\n",
        "import numpy as np\n",
        "import pandas as pd"
      ],
      "execution_count": null,
      "outputs": []
    },
    {
      "metadata": {
        "id": "AGSn2t2Jv8IU"
      },
      "cell_type": "markdown",
      "source": [
        "# Solución de un ejercicio de ruta crítica (CPM)"
      ]
    },
    {
      "metadata": {
        "id": "317ASycIHZdr"
      },
      "cell_type": "markdown",
      "source": [
        "## Paso 1.0: obtener datos\n",
        "\n",
        "Leer los datos del archivo y verificar que hayan sido adecuadamente guardados en un objeto de pandas.\n",
        "\n",
        "**Los datos se encuentran en: [cpmEjemplo.xlsx](https://docs.google.com/spreadsheets/d/e/2PACX-1vSnt1r41grZTV3-15LBEBLgERXzBdViWC7QLu4lmS20M8adQMqBaoA3xEdpmgNd9Q/pub?output=xlsx)**"
      ]
    },
    {
      "metadata": {
        "id": "sLM5zlE0HKkV"
      },
      "cell_type": "code",
      "source": [
        "# Leer la información del archivo y cargarla en un DataFrame\n",
        "ruta_cpm ='https://docs.google.com/spreadsheets/d/e/2PACX-1vSnt1r41grZTV3-\\\n",
        "15LBEBLgERXzBdViWC7QLu4lmS20M8adQMqBaoA3xEdpmgNd9Q/pub?output=xlsx'\n",
        "\n",
        "datosP =pd.read_excel(ruta_cpm)\n",
        "\n",
        "#datosP =pd.read_excel('cpmEjemplo.xlsx')\n",
        "\n",
        "# Verificar que el archivo fue adecuadamente leído y\n",
        "# que los datos se encuentran disponibles\n",
        "print (\"Los contenidos de datosP son: \\n\", datosP)"
      ],
      "execution_count": null,
      "outputs": []
    },
    {
      "metadata": {
        "id": "In7CCKtPQ3P2"
      },
      "cell_type": "markdown",
      "source": [
        "## Paso 1.1: calcular la ruta crítica\n"
      ]
    },
    {
      "metadata": {
        "id": "BAqYvB42uZ8D"
      },
      "cell_type": "code",
      "source": [
        "# Cantidad de actividades del proyecto\n",
        "cantP = datosP.Duración.count()\n",
        "\n",
        "# Suma de todos los tiempos de las actividades del proyecto\n",
        "tmax = datosP.Duración.sum()\n",
        "\n",
        "# Cantidad de eventos del proyecto\n",
        "cant = datosP.Evento.max() + 1\n",
        "\n",
        "# Encontrar los tiempos más próximos y más lejanos de cada evento\n",
        "# Crear el arreglo datosE con una longitud igual al número de eventos del\n",
        "# proyecto\n",
        "datosE = np.zeros((cant, 3), dtype=int)\n",
        "\n",
        "# Colocar los eventos en la primera columna de datosE\n",
        "datosE[:,0] = range (cant)\n",
        "\n",
        "# Convertir datosE en un DataFrame y agregar las correspondientes etiquetas\n",
        "datosE = pd.DataFrame(datosE, columns=['Evento', 'iniTemprano', 'terTardia'])\n",
        "\n",
        "# Crear etiquetas para las nuevas columnas requeridas en datosP\n",
        "nombres = {'Holgura', 'Tpredecesor','Tsucesor'}\n",
        "\n",
        "# Agregar las columnas requeridas datosP con todos sus valores iguales a cero\n",
        "for i in nombres:\n",
        "    datosP[i] = 0\n",
        "\n",
        "# Encontrar los tiempos más tempranos de inicio de cada evento\n",
        "for i in range(1,cant):\n",
        "    w = datosP[datosP.Evento == i]\n",
        "    mayor = np.max(w.Duración + w.Tpredecesor)\n",
        "    datosP.loc[datosP.EvAnterior == i,'Tpredecesor']= mayor\n",
        "    # Guardar en datosE el tiempo más cercano\n",
        "    datosE.loc[i,'iniTemprano']= mayor\n",
        "\n",
        "# Actualizar la información del último evento\n",
        "datosE.loc[cant-1,'terTardia']= mayor\n",
        "datosP.loc[datosP.Evento == cant-1,'Tsucesor']= mayor\n",
        "\n",
        "# Encontrar los tiempos más lejanos de terminación de cada evento\n",
        "for i in range(cant-2, -1, -1):\n",
        "    z = datosP[datosP.EvAnterior == i]\n",
        "    menor = np.min(z.Tsucesor - z.Duración)\n",
        "    datosP.loc[datosP.Evento == i,'Tsucesor']= menor\n",
        "    # Guardar en datosE el tiempo más lejano\n",
        "    datosE.loc[i,'terTardia']= menor\n",
        "\n",
        "# Encontrar los eventos que hacen parte de la ruta crítica\n",
        "datosE['rutaCritica'] = datosE['terTardia']-datosE['iniTemprano']\n",
        "\n",
        "# Convertir los datos de los eventos en un arreglo de NumPy\n",
        "# pos 0: Evento\n",
        "# pos 1: tiempo más próximo\n",
        "# pos 2: tiempo más lejano\n",
        "# pos 3: rutaCrítica\n",
        "datosE1 = np.array (datosE)\n",
        "\n",
        "# Construir el arreglo para el cálculo de holgura de las actividades\n",
        "holg = np.array (datosP.loc[ datosP.Evento > 0,\n",
        " [ 'EvAnterior', 'Evento', 'Duración', 'Holgura']])\n",
        "\n",
        "# Calcular las holguras de las actividades\n",
        "for i in range(cantP-1):\n",
        "    holg [i,3]= datosE1[holg[i,1],2] - (datosE1[holg[i,0],1] + holg[i,2])\n",
        "\n"
      ],
      "execution_count": null,
      "outputs": []
    },
    {
      "metadata": {
        "id": "egclfxjUSwdZ"
      },
      "cell_type": "markdown",
      "source": [
        "## Paso 1.2: mostrar las respuestas"
      ]
    },
    {
      "metadata": {
        "id": "kOvBojlLuZ8H"
      },
      "cell_type": "code",
      "source": [
        "# Mostrar la información general del proyecto\n",
        "print('La cantidad de actividades del proyecto es:', cantP,\"\\n\")\n",
        "print('La suma de todos los tiempos de las actividades del proyecto es:',\n",
        "      tmax,\"\\n\")\n",
        "print(\"El proyecto se compone de\", cant, \"eventos. \\n\")\n",
        "\n",
        "# Mostrar los eventos que hacen parte de la ruta crítica\n",
        "print ('Esta es la ruta crítica de eventos: \\n')\n",
        "for i in range (cant):\n",
        "    if datosE1[i,3]==0:\n",
        "        print(datosE1[i,0])\n",
        "\n",
        "# Mostrar los eventos que no hacen parte de la ruta crítica\n",
        "print ('\\n Los eventos que no hacen parte de la ruta crítica son: \\n')\n",
        "for i in range (cant):\n",
        "    if datosE1[i,3]!=0:\n",
        "        print(datosE1[i,0])\n",
        "\n",
        "# Mostrar la ruta crítica de las actividades\n",
        "for i in range (cantP-1):\n",
        "    if holg [i,3] ==0:\n",
        "        a =str(holg [i,0])\n",
        "        b = str(holg [i,1])\n",
        "        print (\"La actividad\", a+\",\"+b ,\n",
        "               \"pertenece a la ruta crítica y tiene una holgura de\",\n",
        "               holg [i,3],\"\\n\")\n",
        "\n",
        "# Mostrar las holguras de las actividades\n",
        "for i in range (cantP-1):\n",
        "    if holg [i,3] !=0:\n",
        "        a =str(holg [i,0])\n",
        "        b = str(holg [i,1])\n",
        "        print (\"La actividad\", a+\",\"+b ,\n",
        "               \"NO pertenece a la ruta crítica y tiene una holgura de\",\n",
        "               holg [i,3],\"\\n\")"
      ],
      "execution_count": null,
      "outputs": []
    },
    {
      "metadata": {
        "id": "kvJ-sQ6BuZ8J"
      },
      "cell_type": "markdown",
      "source": [
        "# Solución de un ejercicio de PERT"
      ]
    },
    {
      "metadata": {
        "id": "mKSdI3OVuZ8K"
      },
      "cell_type": "markdown",
      "source": [
        "## Paso 2.0: obtener datos\n",
        "Leer los datos del archivo y verificar que hayan sido adecuadamente guardados en un objeto de pandas.\n",
        "\n",
        "**Los datos se encuentran en: [pertEjemplo.xlsx](https://docs.google.com/spreadsheets/d/e/2PACX-1vSshUQyh5SdMD-s0fH93Hs79OS-skErBi7t1xWksD2mDvC3IwFHQt4PXMvXZxr2BBLmlDTjNvpC35Kh/pub?output=xlsx)**"
      ]
    },
    {
      "metadata": {
        "id": "uOaUxWPDuZ8M"
      },
      "cell_type": "code",
      "source": [
        "# Leer la información del archivo y cargarla en un DataFrame\n",
        "ruta_pert ='https://docs.google.com/spreadsheets/d/e/2PACX-1vS-6SJmw0r2vNXc3g7-\\\n",
        "6_b66SJrjG0UYWE-1BpbAoZZEi-cvUFng1Yiuq3UKfyoMw/pub?output=xlsx'\n",
        "\n",
        "datosP =pd.read_excel(ruta_pert)\n",
        "\n",
        "#datosP =pd.read_excel('pertEjemplo.xlsx')\n",
        "\n",
        "# Verificar que el archivo fue adecuadamente leído y\n",
        "# que los datos se encuentran disponibles\n",
        "print (\"Los contenidos de datosP son: \\n\", datosP)"
      ],
      "execution_count": null,
      "outputs": []
    },
    {
      "metadata": {
        "id": "GFsK-JfguZ8R"
      },
      "cell_type": "markdown",
      "source": [
        "## Paso 2.1: calcular la ruta crítica"
      ]
    },
    {
      "metadata": {
        "id": "zGzkNULUuZ8R"
      },
      "cell_type": "code",
      "source": [
        "# Calcular la duración esperada de cada actividad\n",
        "datosP['Duración'] = 1/3 *(2*datosP['m'] +  1/2 *(datosP['a'] + datosP['b']))\n",
        "\n",
        "# Calcular la varianza de cada actividad\n",
        "datosP['Varianza'] = (1/6 *(datosP['b'] - datosP['a']))**2\n",
        "\n",
        "# datosP['Duración'] = 1\n",
        "# Cantidad de actividades del proyecto\n",
        "cantP = datosP.Duración.count()\n",
        "\n",
        "# Suma de todos los tiempos de las actividades del proyecto\n",
        "tmax = datosP.Duración.sum()\n",
        "\n",
        "# Cantidad de eventos del proyecto\n",
        "cant = datosP.Evento.max() + 1\n",
        "\n",
        "# Encontrar los tiempos más próximos y más lejanos de cada evento\n",
        "# Crear el arreglo datosE con una longitud igual al número de eventos del\n",
        "# proyecto\n",
        "datosE = np.zeros((cant, 3), dtype=int)\n",
        "\n",
        "# Colocar los eventos en la primera columna de datosE\n",
        "datosE[:,0] = range (cant)\n",
        "\n",
        "# Convertir datosE en un DataFrame y agregar las correspondientes etiquetas\n",
        "datosE = pd.DataFrame(datosE, columns=['Evento', 'iniTemprano', 'terTardia'])\n",
        "\n",
        "# Crear etiquetas para las nuevas columnas requeridas en datosP\n",
        "nombres = {'Holgura', 'Tpredecesor','Tsucesor'}\n",
        "\n",
        "# Agregar las columnas requeridas datosP con todos sus valores iguales a cero\n",
        "for i in nombres:\n",
        "    datosP[i] = 0\n",
        "\n",
        "# Encontrar los tiempos más tempranos de inicio de cada evento\n",
        "for i in range(1,cant):\n",
        "    w = datosP[datosP.Evento == i]\n",
        "    mayor = np.max(w.Duración + w.Tpredecesor)\n",
        "    datosP.loc[datosP.EvAnterior == i,'Tpredecesor']= mayor\n",
        "    # Guardar en datosE el tiempo más cercano\n",
        "    datosE.loc[i,'iniTemprano']= mayor\n",
        "\n",
        "# Actualizar la información del último evento\n",
        "datosE.loc[cant-1,'terTardia']= mayor\n",
        "datosP.loc[datosP.Evento == cant-1,'Tsucesor']= mayor\n",
        "\n",
        "# Encontrar los tiempos más lejanos de terminación de cada evento\n",
        "for i in range(cant-2, -1, -1):\n",
        "    z = datosP[datosP.EvAnterior == i]\n",
        "    menor = np.min(z.Tsucesor - z.Duración)\n",
        "    datosP.loc[datosP.Evento == i,'Tsucesor']= menor\n",
        "    # Guardar en datosE el tiempo más lejano\n",
        "    datosE.loc[i,'terTardia']= menor\n",
        "\n",
        "# Encontrar los eventos que hacen parte de la ruta crítica\n",
        "datosE['rutaCritica'] = datosE['terTardia']-datosE['iniTemprano']\n",
        "\n",
        "# Convertir los datos de los eventos en un arreglo de NumPy\n",
        "# pos 0: Evento\n",
        "# pos 1: tiempo más próximo\n",
        "# pos 2: tiempo más lejano\n",
        "# pos 3: rutaCrítica\n",
        "datosE1 = np.array (datosE)\n",
        "\n",
        "# Construir el arreglo para el cálculo de holgura de las actividades\n",
        "holg = np.array (datosP.loc[ datosP.Evento > 0, ['EvAnterior', 'Evento',\n",
        "                                                 'Duración', 'Holgura']])\n",
        "\n",
        "# Calcular las holguras de las actividades\n",
        "for i in range(cantP-1):\n",
        "    holg [i,3]= datosE1[holg[i,1],2] - (datosE1[holg[i,0],1] + holg[i,2])"
      ],
      "execution_count": null,
      "outputs": []
    },
    {
      "metadata": {
        "id": "xYs3cqSRuZ8V"
      },
      "cell_type": "markdown",
      "source": [
        "## Paso 2.2: mostrar las respuestas"
      ]
    },
    {
      "metadata": {
        "id": "bknf2C_0uZ8W"
      },
      "cell_type": "code",
      "source": [
        "# Mostrar la información general del proyecto\n",
        "print('La cantidad de actividades del proyecto es:', cantP,\"\\n\")\n",
        "print('La suma de todos los tiempos de las actividades del proyecto es:',\n",
        "      tmax,\"\\n\")\n",
        "print(\"El proyecto se compone de\", cant, \"eventos. \\n\")\n",
        "\n",
        "# Mostrar los eventos que hacen parte de la ruta crítica\n",
        "print ('Esta es la ruta crítica de eventos: \\n')\n",
        "for i in range (cant):\n",
        "    if datosE1[i,3]==0:\n",
        "        print(int (datosE1[i,0]))\n",
        "\n",
        "# Mostrar los eventos que no hacen parte de la ruta crítica\n",
        "print ('\\n Los eventos que no hacen parte de la ruta crítica son: \\n')\n",
        "for i in range (cant):\n",
        "    if datosE1[i,3]!=0:\n",
        "        print(int(datosE1[i,0]))\n",
        "\n",
        "# Mostrar la ruta crítica de las actividades\n",
        "for i in range (cantP):\n",
        "    if holg [i,3] ==0:\n",
        "        a =str(holg [i,0])\n",
        "        b = str(holg [i,1])\n",
        "        print (\"La actividad\", a+\",\"+b,\n",
        "               \"pertenece a la ruta crítica y tiene una holgura de\",\n",
        "               holg [i,3],\"\\n\")\n",
        "\n",
        "# Mostrar las holguras de las actividades\n",
        "for i in range (cantP-1):\n",
        "    if holg [i,3] !=0:\n",
        "        a =str(holg [i,0])\n",
        "        b = str(holg [i,1])\n",
        "        print (\"La actividad\", a+\",\"+b ,\n",
        "               \"NO pertenece a la ruta crítica y tiene una holgura de\",\n",
        "               holg [i,3],\"\\n\")"
      ],
      "execution_count": null,
      "outputs": []
    },
    {
      "cell_type": "markdown",
      "source": [
        "# Ejercicios\n",
        "\n",
        "Resuelva los ejercicios propuestos en el [Taller_08_CPM_PERT](https://docs.google.com/document/d/1iNb4Uo2RWthsaSdiLfKVeuLEoafBvAa3seGQOBl_fvc/edit?usp=sharing)"
      ],
      "metadata": {
        "id": "9fxRCcUay0M4"
      }
    },
    {
      "cell_type": "markdown",
      "source": [
        "## Autopistas de la prosperidad"
      ],
      "metadata": {
        "id": "NwZDOW1t0rJc"
      }
    },
    {
      "cell_type": "code",
      "source": [],
      "metadata": {
        "id": "iqV2WtJ40uWL"
      },
      "execution_count": null,
      "outputs": []
    },
    {
      "cell_type": "markdown",
      "source": [
        "## Solución de conflictos armados"
      ],
      "metadata": {
        "id": "METzDzsN0y58"
      }
    },
    {
      "cell_type": "code",
      "source": [],
      "metadata": {
        "id": "03jn9C1w05Xp"
      },
      "execution_count": null,
      "outputs": []
    }
  ]
}