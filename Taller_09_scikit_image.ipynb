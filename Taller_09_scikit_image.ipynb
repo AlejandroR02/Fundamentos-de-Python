{
  "nbformat": 4,
  "nbformat_minor": 0,
  "metadata": {
    "colab": {
      "provenance": [],
      "toc_visible": true,
      "authorship_tag": "ABX9TyNzyP0lC7mVnnBIQ44CXKVF",
      "include_colab_link": true
    },
    "kernelspec": {
      "name": "python3",
      "display_name": "Python 3"
    }
  },
  "cells": [
    {
      "cell_type": "markdown",
      "metadata": {
        "id": "view-in-github",
        "colab_type": "text"
      },
      "source": [
        "<a href=\"https://colab.research.google.com/github/gabrielawad/talleresGoogleColab/blob/main/Taller_09_scikit_image.ipynb\" target=\"_parent\"><img src=\"https://colab.research.google.com/assets/colab-badge.svg\" alt=\"Open In Colab\"/></a>"
      ]
    },
    {
      "cell_type": "markdown",
      "source": [
        "##«*Verdaderamente, el azar tiene mucho poder sobre nosotros, puesto que, si vivimos, es por azar.*»\n",
        "### [Séneca](https://es.wikipedia.org/wiki/S%C3%A9neca)"
      ],
      "metadata": {
        "id": "Bb74jnuLaZqp"
      }
    },
    {
      "cell_type": "markdown",
      "metadata": {
        "id": "PJcqW8vd-xiP"
      },
      "source": [
        "# Taller 09 procesamiento de imágenes con scikit-image\n",
        "En este taller aprenderá los conceptos básicos de Python 3 relativos al procesamiento de imágenes con la librería [scikit_image](https://scikit-image.org/).\n",
        "\n",
        "scikit_image  **no es una librería nativa** de Python por lo que **requiere ser instalada antes de ser invocada**. Sin embargo, esta librería sí está preinstalada en Google Colaboratory por lo que basta invocarla para poder usar sus funcionalidades."
      ]
    },
    {
      "cell_type": "markdown",
      "source": [
        "## Referencias\n",
        "\n",
        "Este taller se basa en información e ideas recopiladas de las siguientes fuentes:\n",
        "\n",
        "* [scikit-image User Guide](https://scikit-image.org/docs/dev/user_guide)\n",
        "\n",
        "* [scikit-image General examples](https://scikit-image.org/docs/dev/auto_examples/)\n",
        "\n",
        "* [scikit-image docs](https://scikit-image.org/docs/0.17.x/)\n",
        "\n",
        "* [9 Powerful Tips and Tricks for Working with Image Data using skimage in Python](https://www.analyticsvidhya.com/blog/2019/09/9-powerful-tricks-for-working-image-data-skimage-python/)\n",
        "\n",
        "* [Understanding and Decoding a JPEG Image using Python](https://yasoob.me/posts/understanding-and-writing-jpeg-decoder-in-python/)\n",
        "\n",
        "* [10 Python image manipulation tools](https://opensource.com/article/19/3/python-image-manipulation-tools)\n",
        "\n",
        "* [Generate color schemes](https://www.webfx.com/web-design/color-picker/)\n",
        "\n",
        "La asignatura [Visión Artificial](https://github.com/alceballosa/Vision-Artificial-UNALMed) le permitirá profundizar en contenidos asociados con imágenes y vídeos."
      ],
      "metadata": {
        "id": "JUHq-L6bbCfT"
      }
    },
    {
      "cell_type": "markdown",
      "metadata": {
        "id": "Buj1HTFXoZ2L"
      },
      "source": [
        "# skimage"
      ]
    },
    {
      "cell_type": "markdown",
      "metadata": {
        "id": "KiRLdhBBaT0v"
      },
      "source": [
        "##  00.Cargar imágenes desde banco de imágenes"
      ]
    },
    {
      "cell_type": "code",
      "metadata": {
        "id": "oh68kuFwoHdU"
      },
      "source": [
        "# Importar las librerías requeridas\n",
        "import matplotlib.pyplot as plt\n",
        "import matplotlib\n",
        "\n",
        "from skimage import data\n",
        "\n",
        "# Establecer el tipo de fuente de las imágenes\n",
        "matplotlib.rcParams['font.size'] = 18\n",
        "\n",
        "# cargar algunas imágenes que están en la base de datos de skimage\n",
        "images = ('astronaut',\n",
        "          'binary_blobs',\n",
        "          'camera',\n",
        "          'checkerboard',\n",
        "          'chelsea',\n",
        "          'clock',\n",
        "          'coffee',\n",
        "          'coins',\n",
        "          'horse',\n",
        "          'logo',\n",
        "          'page',\n",
        "          'text',\n",
        "          'rocket',\n",
        "          )\n",
        "\n",
        "# Mostrar las imágenes cargadas\n",
        "for name in images:\n",
        "    caller = getattr(data, name)\n",
        "    image = caller()\n",
        "    plt.figure()\n",
        "    plt.title(name)\n",
        "    plt.imshow(image)\n",
        "\n",
        "plt.show()"
      ],
      "execution_count": null,
      "outputs": []
    },
    {
      "cell_type": "markdown",
      "metadata": {
        "id": "mC4592Uij8yj"
      },
      "source": [
        "## 01.Cargar imágenes desde archivo"
      ]
    },
    {
      "cell_type": "code",
      "metadata": {
        "id": "TRqY4MolkGwb"
      },
      "source": [
        "# Importar las librerías requeridas\n",
        "from skimage.io import imread, imshow\n",
        "import matplotlib.pyplot as plt\n",
        "\n",
        "# Cargar imagen\n",
        "jugador = imread('player.png')\n",
        "#caras = imread('image_03_caras.jpg')\n",
        "#jugador = imread('player.png', as_gray=False)\n",
        "#jugador = imread('player.png', as_gray=True)\n",
        "\n",
        "# Mostrar imagen\n",
        "imshow(jugador)\n",
        "#imshow(caras)"
      ],
      "execution_count": null,
      "outputs": []
    },
    {
      "cell_type": "markdown",
      "metadata": {
        "id": "nU-zFqEhpvrJ"
      },
      "source": [
        "## 02.Convertir a escala de grises"
      ]
    },
    {
      "cell_type": "code",
      "metadata": {
        "id": "FX1dEkVMpxzU"
      },
      "source": [
        "# Importar las librerías necesarias\n",
        "import numpy as np\n",
        "import matplotlib.pyplot as plt\n",
        "\n",
        "from skimage import data\n",
        "from skimage.color import rgb2gray\n",
        "\n",
        "# Cargar imagen\n",
        "original = data.chelsea()\n",
        "# original = data.coffee()\n",
        "# original = data.horse()\n",
        "# original = data.stereo_motorcycle()\n",
        "#original = data.astronaut()\n",
        "\n",
        "# Convertir imagen a escala de grises\n",
        "grayscale = rgb2gray(original)\n",
        "\n",
        "# Mostrar imagen original e imagen transformada\n",
        "fig, axes = plt.subplots(1, 2, figsize=(8, 4))\n",
        "ax = axes.ravel()\n",
        "\n",
        "ax[0].imshow(original)\n",
        "ax[0].set_title(\"Original\")\n",
        "\n",
        "ax[1].imshow(grayscale, cmap=plt.cm.gray)\n",
        "ax[1].set_title(\"Escala de grises\")\n",
        "\n",
        "fig.tight_layout()\n",
        "plt.show()"
      ],
      "execution_count": null,
      "outputs": []
    },
    {
      "cell_type": "markdown",
      "metadata": {
        "id": "UCuBcH1ynFNK"
      },
      "source": [
        "## 03.Cambiar tamaño de la imagen\n",
        "\n",
        "Modificada el tamaño de la imagen a un tamaño definido por el usuario"
      ]
    },
    {
      "cell_type": "code",
      "metadata": {
        "id": "ZPAmTO76nOK2"
      },
      "source": [
        "# Importar las librerías necesarias\n",
        "import numpy as np\n",
        "import matplotlib.pyplot as plt\n",
        "\n",
        "from skimage import data\n",
        "from skimage.transform import resize\n",
        "from skimage.io import imread, imshow\n",
        "\n",
        "\n",
        "# Cargar la imagen\n",
        "#original = data.chelsea()\n",
        "original = imread('player.png')\n",
        "\n",
        "# Cambiar el tamaño de la imagen\n",
        "#resize image\n",
        "nueva = resize(original, (500, 500))\n",
        "\n",
        "# Mostrar las imágenes\n",
        "#plot images\n",
        "plt.subplot(121), imshow(original)\n",
        "plt.title('Original')\n",
        "plt.subplot(122), imshow(nueva)\n",
        "plt.title('Modificada')\n",
        "plt.show()"
      ],
      "execution_count": null,
      "outputs": []
    },
    {
      "cell_type": "markdown",
      "metadata": {
        "id": "4c3nViz4pVbE"
      },
      "source": [
        "## 04.Escalar el tamaño de la imagen\n",
        "\n",
        "Modifica el tamaño de la imagen de manera proporcional. Útil cuando las imágenes son de distinto tamaño o cuando no se conoce el tamaño de la imagen"
      ]
    },
    {
      "cell_type": "code",
      "metadata": {
        "id": "7gDr2FsqpcBL"
      },
      "source": [
        "# Importar las librerías necesarias\n",
        "import numpy as np\n",
        "import matplotlib.pyplot as plt\n",
        "\n",
        "from skimage import data\n",
        "from skimage.transform import rescale\n",
        "from skimage.io import imread, imshow\n",
        "\n",
        "\n",
        "# Cargar las imágenes\n",
        "original = data.chelsea()\n",
        "# original = imread('player.png')\n",
        "\n",
        "# Escalar la imagen\n",
        "#rescale image\n",
        "nueva = rescale(original, scale=(0.5, 0.75, 1))\n",
        "#nueva = rescale(original, scale=(2, 4, 1))\n",
        "\n",
        "# Mostrar las imágenes\n",
        "#plot images\n",
        "plt.subplot(121), imshow(original)\n",
        "plt.title('Original')\n",
        "plt.subplot(122), imshow(nueva)\n",
        "plt.title('Modificada')\n",
        "plt.show()\n"
      ],
      "execution_count": null,
      "outputs": []
    },
    {
      "cell_type": "markdown",
      "metadata": {
        "id": "WTa44czXrqnO"
      },
      "source": [
        "## 05.Rotar una imagen"
      ]
    },
    {
      "cell_type": "code",
      "metadata": {
        "id": "325LRXGdrz2i"
      },
      "source": [
        "# Importar las librerías necesarias\n",
        "import numpy as np\n",
        "import matplotlib.pyplot as plt\n",
        "\n",
        "from skimage import data\n",
        "from skimage.transform import rotate\n",
        "from skimage.io import imread, imshow\n",
        "\n",
        "# Cargar la imagen\n",
        "original = data.chelsea()\n",
        "# original = imread('player.png')\n",
        "\n",
        "# Rotar la imagen\n",
        "nueva = rotate(original, angle=45)\n",
        "#nueva = rotate(original, angle=360)\n",
        "\n",
        "# Mostrar las imágenes\n",
        "plt.subplot(121), imshow(original)\n",
        "plt.title('Original')\n",
        "plt.subplot(122), imshow(nueva)\n",
        "plt.title('Modificada')\n",
        "plt.show()"
      ],
      "execution_count": null,
      "outputs": []
    },
    {
      "cell_type": "markdown",
      "metadata": {
        "id": "VZC-5H1esswr"
      },
      "source": [
        "## 06.Generar imagen espejo horizontal"
      ]
    },
    {
      "cell_type": "code",
      "metadata": {
        "id": "iPl54UKAsyUA"
      },
      "source": [
        "# Importar las librerías necesarias\n",
        "import numpy as np\n",
        "import matplotlib.pyplot as plt\n",
        "\n",
        "from skimage import data\n",
        "from skimage.io import imread, imshow\n",
        "\n",
        "# Cargar las imágenes\n",
        "original = data.chelsea()\n",
        "#original = imread('player.png')\n",
        "\n",
        "# Espejo horizontal imagen\n",
        "nueva = np.fliplr(original)\n",
        "\n",
        "# Mostrar imágenes\n",
        "plt.subplot(121), imshow(original)\n",
        "plt.title('Original')\n",
        "plt.subplot(122), imshow(nueva)\n",
        "plt.title('Modificada')\n",
        "plt.show()"
      ],
      "execution_count": null,
      "outputs": []
    },
    {
      "cell_type": "markdown",
      "metadata": {
        "id": "6c9wUXaVtiDj"
      },
      "source": [
        "## 07.Generar imagen espejo vertical"
      ]
    },
    {
      "cell_type": "code",
      "metadata": {
        "id": "8q_87W9-tvwf"
      },
      "source": [
        "# Importar las librerías necesarias\n",
        "import numpy as np\n",
        "import matplotlib.pyplot as plt\n",
        "\n",
        "from skimage import data\n",
        "from skimage.io import imread, imshow\n",
        "\n",
        "# Cargar imágenes\n",
        "original = data.chelsea()\n",
        "#original = imread('player.png')\n",
        "\n",
        "# Espejo vertical imagen\n",
        "nueva = np.flipud(original)\n",
        "\n",
        "# Mostrar imágenes\n",
        "plt.subplot(121), imshow(original)\n",
        "plt.title('Original')\n",
        "plt.subplot(122), imshow(nueva)\n",
        "plt.title('Modificada')\n",
        "plt.show()\n"
      ],
      "execution_count": null,
      "outputs": []
    },
    {
      "cell_type": "markdown",
      "metadata": {
        "id": "JlgwjmyFuPdx"
      },
      "source": [
        "## 08.Recortar una imagen"
      ]
    },
    {
      "cell_type": "code",
      "metadata": {
        "id": "X1X2ROIduSa9"
      },
      "source": [
        "# Importar las librerías necesarias\n",
        "import numpy as np\n",
        "import matplotlib.pyplot as plt\n",
        "\n",
        "from skimage import data\n",
        "from skimage.transform import resize\n",
        "from skimage.io import imread, imshow\n",
        "\n",
        "\n",
        "# Cargar imágenes\n",
        "original = data.chelsea()\n",
        "\n",
        "# original = imread('player.png')\n",
        "\n",
        "print(original.shape)\n",
        "\n",
        "# Recortar imagen \n",
        "nueva = original[100:(original.shape[0]-100),100:(original.shape[1]-100)]\n",
        "\n",
        "# Mostrar impagenes\n",
        "plt.subplot(121), imshow(original)\n",
        "plt.title('Original')\n",
        "plt.subplot(122), imshow(nueva)\n",
        "plt.title('Modificada')\n",
        "plt.show()"
      ],
      "execution_count": null,
      "outputs": []
    },
    {
      "cell_type": "markdown",
      "metadata": {
        "id": "BhQWoO0gtCnS"
      },
      "source": [
        "## 09.\"Revolver\" una imagen"
      ]
    },
    {
      "cell_type": "code",
      "metadata": {
        "id": "wfg18yOJtE7B"
      },
      "source": [
        "# Importar librerías necesarias\n",
        "import matplotlib.pyplot as plt\n",
        "\n",
        "from skimage import data\n",
        "from skimage.transform import swirl\n",
        "\n",
        "# Cargar imagen de referencia\n",
        "image = data.checkerboard()\n",
        "#image = data.chelsea()\n",
        "\n",
        "# \"Revolver\" imagen\n",
        "swirled = swirl(image, rotation=0, strength=10, radius=120)\n",
        "#swirled = swirl(image, rotation=90, strength=25, radius=240)\n",
        "\n",
        "# Mostrar imagen original e imagen transformada\n",
        "fig, (ax0, ax1) = plt.subplots(nrows=1, ncols=2, figsize=(8, 3),\n",
        "                               sharex=True, sharey=True)\n",
        "\n",
        "ax0.imshow(image, cmap=plt.cm.gray)\n",
        "ax0.axis('on')\n",
        "ax1.imshow(swirled, cmap=plt.cm.gray)\n",
        "ax1.axis('off')\n",
        "\n",
        "plt.show()"
      ],
      "execution_count": null,
      "outputs": []
    },
    {
      "cell_type": "markdown",
      "metadata": {
        "id": "3CvoNy83vdA4"
      },
      "source": [
        "## Otro ejemplo de imagen \"revuelta\""
      ]
    },
    {
      "cell_type": "code",
      "metadata": {
        "id": "gbeUZdkIvhjH"
      },
      "source": [
        "# Importar las librerías requeridas\n",
        "import matplotlib.pyplot as plt\n",
        "\n",
        "from skimage import data\n",
        "from skimage.transform import swirl\n",
        "\n",
        "# Cargar imagen original\n",
        "image = data.chelsea()\n",
        "\n",
        "# \"Revolver\" imagen\n",
        "swirled = swirl(image, rotation=0, strength=10, radius=100)\n",
        "\n",
        "# Mostrar imagen original e imagen transformada\n",
        "fig, (ax0, ax1) = plt.subplots(nrows=1, ncols=2, figsize=(8, 3),\n",
        "                               sharex=True, sharey=True)\n",
        "\n",
        "ax0.imshow(image, cmap=plt.cm.gray)\n",
        "ax0.axis('on')\n",
        "ax1.imshow(swirled, cmap=plt.cm.gray)\n",
        "ax1.axis('off')\n",
        "\n",
        "plt.show()"
      ],
      "execution_count": null,
      "outputs": []
    },
    {
      "cell_type": "markdown",
      "metadata": {
        "id": "NEltv2pOoCo9"
      },
      "source": [
        "# Aplicaciones"
      ]
    },
    {
      "cell_type": "markdown",
      "metadata": {
        "id": "BJzPgA4_vUCN"
      },
      "source": [
        "## Identificar patrones dentro de un objeto"
      ]
    },
    {
      "cell_type": "code",
      "metadata": {
        "id": "eYPz9NNQvVsY"
      },
      "source": [
        "# Importar las librerías requeridas\n",
        "import numpy as np\n",
        "import matplotlib.pyplot as plt\n",
        "\n",
        "from skimage import data\n",
        "from skimage.feature import match_template\n",
        "\n",
        "# Cargar imagen\n",
        "image = data.coins()\n",
        "\n",
        "# Seleccionar modelo\n",
        "coin = image[170:220, 75:130]\n",
        "\n",
        "# Buscar las imágenes que se ajustan al patrón\n",
        "result = match_template(image, coin)\n",
        "ij = np.unravel_index(np.argmax(result), result.shape)\n",
        "x, y = ij[::-1]\n",
        "\n",
        "# Mostrar la imagen\n",
        "fig = plt.figure(figsize=(8, 3))\n",
        "ax1 = plt.subplot(1, 3, 1)\n",
        "ax2 = plt.subplot(1, 3, 2)\n",
        "ax3 = plt.subplot(1, 3, 3, sharex=ax2, sharey=ax2)\n",
        "\n",
        "ax1.imshow(coin, cmap=plt.cm.gray)\n",
        "ax1.set_axis_off()\n",
        "ax1.set_title('modelo')\n",
        "\n",
        "ax2.imshow(image, cmap=plt.cm.gray)\n",
        "ax2.set_axis_off()\n",
        "ax2.set_title('imagen')\n",
        "\n",
        "# Resaltar región de equivalencia\n",
        "hcoin, wcoin = coin.shape\n",
        "rect = plt.Rectangle((x, y), wcoin, hcoin, edgecolor='r', facecolor='none')\n",
        "ax2.add_patch(rect)\n",
        "\n",
        "ax3.imshow(result)\n",
        "ax3.set_axis_off()\n",
        "ax3.set_title('modelo encontrado\\nresultado')\n",
        "\n",
        "# resaltar región de equivalencia\n",
        "ax3.autoscale(False)\n",
        "ax3.plot(x, y, 'o', markeredgecolor='r', markerfacecolor='none', markersize=10)\n",
        "\n",
        "plt.show()"
      ],
      "execution_count": null,
      "outputs": []
    },
    {
      "cell_type": "markdown",
      "metadata": {
        "id": "5kWs_XoD1UYe"
      },
      "source": [
        "## Detectar caras en una imagen"
      ]
    },
    {
      "cell_type": "code",
      "metadata": {
        "id": "xW98jJra1WDe"
      },
      "source": [
        "# Importar las librerías necesarias\n",
        "from skimage import data\n",
        "from skimage.feature import Cascade\n",
        "\n",
        "import matplotlib.pyplot as plt\n",
        "from matplotlib import patches\n",
        "\n",
        "# Cargar el archivo entrenado desde el módulo root.\n",
        "trained_file = data.lbp_frontal_face_cascade_filename()\n",
        "\n",
        "# Inicializar el detector con Cascade\n",
        "detector = Cascade(trained_file)\n",
        "\n",
        "# Cargar la imagen a analizar\n",
        "img = data.astronaut()\n",
        "#img = imread('player.png')\n",
        "\n",
        "# Mostrar la imagen original\n",
        "plt.imshow(img)\n",
        "plt.title('Original')\n",
        "\n",
        "plt.show()\n",
        "\n",
        "# Detectar las caras en la imagen\n",
        "detected = detector.detect_multi_scale(img=img,\n",
        "                                       scale_factor=1.2,\n",
        "                                       step_ratio=1,\n",
        "                                       min_size=(60, 60),\n",
        "                                       max_size=(123, 123))\n",
        "\n",
        "\n",
        "plt.imshow(img)\n",
        "\n",
        "img_desc = plt.gca()\n",
        "plt.set_cmap('gray')\n",
        "\n",
        "for patch in detected:\n",
        "\n",
        "    img_desc.add_patch(\n",
        "        patches.Rectangle(\n",
        "            (patch['c'], patch['r']),\n",
        "            patch['width'],\n",
        "            patch['height'],\n",
        "            fill=False,\n",
        "            color='r',\n",
        "            linewidth=2\n",
        "        )\n",
        "    )\n",
        "plt.title('Cara detectada')\n",
        "plt.show()"
      ],
      "execution_count": null,
      "outputs": []
    },
    {
      "cell_type": "code",
      "metadata": {
        "id": "7jSHBrBz2Eqh"
      },
      "source": [
        "from skimage import data\n",
        "from skimage.feature import Cascade\n",
        "from skimage import io\n",
        "\n",
        "import matplotlib.pyplot as plt\n",
        "from matplotlib import patches\n",
        "\n",
        "# Load the trained file from the module root.\n",
        "trained_file = data.lbp_frontal_face_cascade_filename()\n",
        "\n",
        "# Initialize the detector cascade.\n",
        "detector = Cascade(trained_file)\n",
        "\n",
        "# cargar imagen\n",
        "original = io.imread('image_03_caras.jpg')\n",
        "\n",
        "\n",
        "img = io.imread('image_03_caras.jpg')\n",
        "\n",
        "#plot images\n",
        "plt.imshow(img)\n",
        "plt.title('Original')\n",
        "\n",
        "plt.show()\n",
        "\n",
        "detected = detector.detect_multi_scale(img=img,\n",
        "                                       scale_factor=1.2,\n",
        "                                       step_ratio=1,\n",
        "                                       min_size=(60, 60),\n",
        "                                       max_size=(123, 123))\n",
        "\n",
        "plt.imshow(img)\n",
        "img_desc = plt.gca()\n",
        "plt.set_cmap('gray')\n",
        "\n",
        "for patch in detected:\n",
        "\n",
        "    img_desc.add_patch(\n",
        "        patches.Rectangle(\n",
        "            (patch['c'], patch['r']),\n",
        "            patch['width'],\n",
        "            patch['height'],\n",
        "            fill=False,\n",
        "            color='r',\n",
        "            linewidth=2\n",
        "        )\n",
        "    )\n",
        "plt.title('Caras detectadas')\n",
        "plt.show()\n",
        "\n"
      ],
      "execution_count": null,
      "outputs": []
    },
    {
      "cell_type": "markdown",
      "source": [
        "# Ejercicios\n",
        "\n"
      ],
      "metadata": {
        "id": "PFo-NDTpFMff"
      }
    },
    {
      "cell_type": "markdown",
      "source": [
        "## 00\n",
        "\n",
        "Seleccione tres imágenes diferentes a las utilizadas en el taller y apliqueles los cambios indicados en las actividades 02 a 09.\n",
        "\n",
        "**Muestre las tres imágenes, junto con los cambios, en una sola figura**."
      ],
      "metadata": {
        "id": "chcHGen2G0fp"
      }
    },
    {
      "cell_type": "code",
      "source": [],
      "metadata": {
        "id": "6X6cmR--GdfD"
      },
      "execution_count": null,
      "outputs": []
    },
    {
      "cell_type": "markdown",
      "source": [
        "## 01\n",
        "\n",
        "Explore los [Ejemplos generales](https://scikit-image.org/docs/dev/auto_examples/) de la librería scikit-image"
      ],
      "metadata": {
        "id": "sNn2kMcLG_ch"
      }
    },
    {
      "cell_type": "code",
      "source": [],
      "metadata": {
        "id": "gPxzn2kLHU1j"
      },
      "execution_count": null,
      "outputs": []
    },
    {
      "cell_type": "markdown",
      "source": [
        "## 02\n"
      ],
      "metadata": {
        "id": "l8aOLBgMHVfJ"
      }
    }
  ]
}