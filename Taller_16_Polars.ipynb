{
  "nbformat": 4,
  "nbformat_minor": 0,
  "metadata": {
    "colab": {
      "provenance": [],
      "toc_visible": true,
      "authorship_tag": "ABX9TyOuqZyILoTKHTq19oBQ/mq3",
      "include_colab_link": true
    },
    "kernelspec": {
      "name": "python3",
      "display_name": "Python 3"
    },
    "language_info": {
      "name": "python"
    }
  },
  "cells": [
    {
      "cell_type": "markdown",
      "metadata": {
        "id": "view-in-github",
        "colab_type": "text"
      },
      "source": [
        "<a href=\"https://colab.research.google.com/github/gabrielawad/talleresGoogleColab/blob/main/Taller_16_Polars.ipynb\" target=\"_parent\"><img src=\"https://colab.research.google.com/assets/colab-badge.svg\" alt=\"Open In Colab\"/></a>"
      ]
    },
    {
      "cell_type": "markdown",
      "source": [
        "## «*Quien se empeña en darle una pedrada a la Luna no lo conseguirá, pero terminará sabiendo manejar la honda.*»\n",
        "### Provervio árabe"
      ],
      "metadata": {
        "id": "wtIGtB_l9IjO"
      }
    },
    {
      "cell_type": "markdown",
      "source": [
        "# Taller 16 Polars\n",
        "En este taller aprenderá los conceptos básicos de la librería Polars.\n",
        "\n",
        "Polars **no es una librería nativa** de Python por lo que **requiere ser instalada antes de ser invocada**. \n",
        "\n",
        "Puede consultar más información en: [Polars](https://www.pola.rs/)."
      ],
      "metadata": {
        "id": "yVT-hh2Q9NGp"
      }
    },
    {
      "cell_type": "markdown",
      "source": [
        "## Características principales de Polars\n",
        "\n",
        "Polars es una librería muy parecida a Pandas, su propósito es aumentar la velocidad de procesamiento de grandes conjuntos de datos.\n",
        "\n",
        "Polars utiliza los mismos conceptos de Series y DataFrame que utiliza Pandas.\n",
        "\n",
        "La principal diferencia entre Polars y Pandas es que Polars no utiliza índices, sino que cada fila es indexada con el entero correspondiente a su posición en el DataFrame.\n",
        "\n",
        "Los valores faltantes se representan con **null** en Polars, mientras que en Pandas se uiliza **NaN**."
      ],
      "metadata": {
        "id": "Jk4ILVpTX44J"
      }
    },
    {
      "cell_type": "markdown",
      "source": [
        "# Referencias\n",
        "Este taller se basa en información e ideas recopiladas de las siguientes fuentes:\n",
        "\n",
        "* [Polars API Reference](https://pola-rs.github.io/polars/py-polars/html/reference/)\n",
        "* [Polars User Guide](https://pola-rs.github.io/polars-book/user-guide/introduction.html)\n",
        "* [Polars GitHub](https://github.com/pola-rs/polars)\n",
        "* [Alternatives to Pandas: Python Polars](https://codesolid.com/alternatives-to-pandas-python-polars/)\n",
        "* [Pandas vs. Polars: A Syntax and Speed Comparison](https://towardsdatascience.com/pandas-vs-polars-a-syntax-and-speed-comparison-5aa54e27497e#:~:text=The%20main%20advantage%20of%20Polars,switch%20from%20Pandas%20to%20Polars.)\n",
        "* [Replacing Pandas with Polars. A Practical Guide.](https://www.confessionsofadataguy.com/replacing-pandas-with-polars-a-practical-guide/)\n",
        "* [Pandas vs. Polars códigos](https://www.kaggle.com/code/iamleonie/pandas-vs-polars)\n",
        "* [Using the Polars DataFrame Library](https://www.codemag.com/Article/2212051/Using-the-Polars-DataFrame-Library)\n",
        "* [Polars vs Pandas : A new era for Python DataFrames](https://www.sicara.fr/blog-technique/polars-vs-pandas)\n",
        "* [Polars vs. Pandas: Polars DataFrame Tutorial](https://lazyprogrammer.me/polars-vs-pandas-polars-dataframe-tutorial/)"
      ],
      "metadata": {
        "id": "i1ZkNHWgANIb"
      }
    },
    {
      "cell_type": "markdown",
      "source": [
        "# Instalar Polars\n",
        "\n",
        "Polars no es una librería nativa de Python por lo que **requiere ser instalada antes de ser invocada**.\n"
      ],
      "metadata": {
        "id": "hyP_AYQJDnBR"
      }
    },
    {
      "cell_type": "code",
      "source": [
        "# Instalar Polars\n",
        "!pip install polars\n",
        "\n",
        "# Importar la librería requerida\n",
        "import polars as pl\n",
        "\n",
        "# Verificar la versión instalada\n",
        "print(\"La versión instalada de Polars es: \", pl.__version__)"
      ],
      "metadata": {
        "id": "zuL49i3CBf7j"
      },
      "execution_count": null,
      "outputs": []
    },
    {
      "cell_type": "markdown",
      "source": [
        "# Habilitar el acceso a los archivos del Drive"
      ],
      "metadata": {
        "id": "HXau8tCQ7I0Q"
      }
    },
    {
      "cell_type": "code",
      "source": [
        "# Habilitar el acceso a los archivos del Drive\n",
        "import google.colab as gc\n",
        "gc.drive.mount('/content/drive')"
      ],
      "metadata": {
        "id": "C43xpS437NMB"
      },
      "execution_count": null,
      "outputs": []
    },
    {
      "cell_type": "markdown",
      "source": [
        "# Crear un DataFrame de Polars desde NumPy"
      ],
      "metadata": {
        "id": "OnqbjyXDV_i2"
      }
    },
    {
      "cell_type": "code",
      "source": [
        "# Importar las librerías requeridas\n",
        "import numpy as np\n",
        "import polars as pl\n",
        "\n",
        "# Crear un arreglo de NumPy\n",
        "arreglo_np_0 = np.arange(1, 41).reshape(8, 5)\n",
        "\n",
        "# Crear un DataFrame de Polars\n",
        "df_polar_0 = pl.DataFrame(arreglo_np_0)\n",
        "\n",
        "# Mostrar el DataFrame de Polars\n",
        "print(\"DataFrame de Polars creado a partir de arreglo de NumPy: \", df_polar_0)"
      ],
      "metadata": {
        "id": "YCZacC5UWGPG"
      },
      "execution_count": null,
      "outputs": []
    },
    {
      "cell_type": "markdown",
      "source": [
        "# Crear un DataFrame de Polars desde un diccionario"
      ],
      "metadata": {
        "id": "jfpi93DKpBKf"
      }
    },
    {
      "cell_type": "code",
      "source": [
        "# Importar las librerías necesarias\n",
        "import numpy as np\n",
        "import pandas as pd\n",
        "import polars as pl\n",
        "\n",
        "# Crear un DataFrame a partir de un diccionario\n",
        "# las claves del diccionario se convierten en las etiquetas de las columnas del DataFrame\n",
        "df_pl_dict = pl.DataFrame(\n",
        "    {'codigo' : np.random.randn(10),\n",
        "     'fecha' : pd.date_range('20230410', periods=10, freq='D'),\n",
        "     'nota' : pd.Series([1, 1, 5, 3, 2, 3, 1, 4, 3, 5], dtype ='float32'),\n",
        "     'intento' : np.array([3,2] * 5),\n",
        "     'comentario' : 'Texto' })\n",
        "print(f\"DataFrame creado a partir de un diccionario:\\n {df_pl_dict}\")"
      ],
      "metadata": {
        "id": "HjIp9rmppGJO"
      },
      "execution_count": null,
      "outputs": []
    },
    {
      "cell_type": "markdown",
      "source": [
        "# Leer el archivo desde una url\n",
        "\n",
        "\n",
        "Ejemplo tomado de: [Lionel Messi | All Club Goals](https://www.kaggle.com/datasets/azminetoushikwasi/-lionel-messi-all-club-goals)"
      ],
      "metadata": {
        "id": "tj0cB46QltgI"
      }
    },
    {
      "cell_type": "code",
      "source": [
        "# Importar las librerías requeridas\n",
        "import polars as pl\n",
        "\n",
        "# Establecer la ubicación del archivo en el Drive\n",
        "ruta = \"https://raw.githubusercontent.com/azminewasi/Lionel-Messi-Club-Goals/main/data.csv\"\n",
        "\n",
        "# Cargar el archivo\n",
        "messi_df = pl.read_csv(ruta, separator=',')\n",
        "\n",
        "# Verificar la lectura del archivo\n",
        "print(messi_df)"
      ],
      "metadata": {
        "id": "UiLrWeT_l0u_"
      },
      "execution_count": null,
      "outputs": []
    },
    {
      "cell_type": "markdown",
      "source": [
        "# Otro ensayo desde otra url"
      ],
      "metadata": {
        "id": "iuVTqezKqFNG"
      }
    },
    {
      "cell_type": "code",
      "source": [
        "# Importar las librerías requeridas\n",
        "import polars as pl\n",
        "\n",
        "# Establecer la ubicación del archivo en el Drive\n",
        "ruta = \"https://docs.google.com/spreadsheets/d/e/2PACX-1vQ3ZylJpgq_83sdqJcRTV1ci1RYBkfuL7yjqlNl8-Yj1oYUS8GNZxghZ0pPRL5nf9ZeGmyr9lBlfbVR/pub?output=csv\"\n",
        "\n",
        "# Cargar el archivo\n",
        "casas_usadas_df_pl = pl.read_csv(ruta, separator=',')\n",
        "\n",
        "# Verificar la lectura del archivo\n",
        "print(casas_usadas_df_pl)"
      ],
      "metadata": {
        "id": "IrXrPaylqIeY"
      },
      "execution_count": null,
      "outputs": []
    },
    {
      "cell_type": "markdown",
      "source": [
        "# Leer el archivo desde el drive"
      ],
      "metadata": {
        "id": "1SF_Mi0J7k6X"
      }
    },
    {
      "cell_type": "code",
      "source": [
        "# Importar las librerías requeridas\n",
        "import polars as pl\n",
        "\n",
        "# Establecer la ubicación del archivo en el Drive\n",
        "ruta = \"/content/drive/MyDrive/Colab Notebooks/Programación/Archivos_datos/saber11_20162.csv\"\n",
        "\n",
        "# Cargar el archivo\n",
        "saber_2016_df_pl = pl.read_csv(ruta, separator=';')\n",
        "\n",
        "# Verificar la lectura del archivo\n",
        "print(saber_2016_df_pl)"
      ],
      "metadata": {
        "id": "gaSt8sx57rSD"
      },
      "execution_count": null,
      "outputs": []
    },
    {
      "cell_type": "markdown",
      "source": [
        "# Características básicas del DataFrame"
      ],
      "metadata": {
        "id": "1xjMZ_d_913S"
      }
    },
    {
      "cell_type": "code",
      "source": [
        "# Mostrar la forma del DataFrame\n",
        "print(\"La forma del DataFrame es: \", saber_2016_df_pl.shape, \"\\n\")\n",
        "\n",
        "\n",
        "# Mostrar las características de las columnas\n",
        "print(\"Características de las columnas del DataFrame\", saber_2016_df_pl.dtypes, \"\\n\")\n",
        "\n",
        "# Mostrar el contenido del DataFrame\n",
        "print(\"Contenido del DataFrame\", saber_2016_df_pl.describe, \"\\n\")\n",
        "\n",
        "# Mostrar el nombre de las columnas\n",
        "print(\"Nombres de las columnas del DataFrame\", saber_2016_df_pl.columns, \"\\n\")\n",
        "\n",
        "# Mostrar las primeras tres filas del DataFrame\n",
        "print(\"Primeras tres filas del DataFrame\", saber_2016_df_pl.head(3), \"\\n\")\n",
        "\n",
        "# Mostrar las últimas tres filas del DataFrame\n",
        "print(\"Últimas tres filas del DataFrame\", saber_2016_df_pl.tail(3), \"\\n\")\n",
        "\n",
        "# identificar valores únicos por columna\n",
        "print(\"Nombres únicos por columna:\", saber_2016_df_pl['NOMBREMUNICIPIO'].unique(), sep = \"\\n\")"
      ],
      "metadata": {
        "id": "4vQmp4YQ98ru"
      },
      "execution_count": null,
      "outputs": []
    },
    {
      "cell_type": "markdown",
      "source": [
        "# Modificar las características del DataFrame\n"
      ],
      "metadata": {
        "id": "U8FVOazo-z6n"
      }
    },
    {
      "cell_type": "code",
      "source": [
        "# Cambiar el nombre de las columnas\n",
        "saber_2016_df_pl_0 = saber_2016_df_pl.rename({\"CODINST\": \"Código\", \"NOMBREINSTITUCION\": \"Institución\"})\n",
        "\n",
        "# Mostrar el nombre de las columnas modificadas del DataFrame modificado\n",
        "print(\"Nombres de las columnas del DataFrame modificado: \", saber_2016_df_pl_0.columns, \"\\n\")\n",
        "\n",
        "# Seleccionar tres columnas del DataFrame\n",
        "saber_2016_df_pl_1 = saber_2016_df_pl.select(pl.col(['CODIGOMUNICIPIO',\n",
        "                                                     'NOMBREMUNICIPIO',\n",
        "                                                     'DEPARTAMENTO']))\n",
        "print(\"DataFrame con tres columnas:\", saber_2016_df_pl_1, \"\\n\")\n",
        "\n",
        "# Seleccionar un contenido específico del DataFrame\n",
        "saber_2016_df_pl_2 = saber_2016_df_pl.select(['NOMBREINSTITUCION', \n",
        "                                              'CODIGOMUNICIPIO', \n",
        "                                              'NOMBREMUNICIPIO', \n",
        "                                              'EVALUADOS']).filter(\n",
        "                                                  pl.col('EVALUADOS') > 200)\n",
        "print(\"Instituciones por municipio con más de 200 estudiantes evaluados\", saber_2016_df_pl_2, \"\\n\")\n",
        "\n",
        "# Agregar una columna\n",
        "df_polar_1 = df_polar_0.with_columns([(pl.col(\"column_4\") * 5).alias(\"Nueva\")])\n",
        "print(\"DataFrame con una columna adicional: \", df_polar_1, \"\\n\")\n",
        "\n",
        "# Agregar tres columnas\n",
        "df_polar_2 = df_polar_0.with_columns([(pl.col(\"column_0\") * 1).alias(\"Nueva_0\"),\n",
        "                                      (pl.col(\"column_1\") * 2).alias(\"Nueva_1\"),\n",
        "                                      (pl.col(\"column_2\") * 3).alias(\"Nueva_2\")])\n",
        "print(\"DataFrame con tres columnas adicionales: \", df_polar_2, \"\\n\")"
      ],
      "metadata": {
        "id": "bmId14DZ-6QI"
      },
      "execution_count": null,
      "outputs": []
    },
    {
      "cell_type": "markdown",
      "source": [
        "# Resumir la información del DataFrame por grupos"
      ],
      "metadata": {
        "id": "H09FjyCbAaYK"
      }
    },
    {
      "cell_type": "code",
      "source": [
        "# Resumir por grupos\n",
        "\n",
        "# Contar la cantidad de establecimientos por municipio\n",
        "saber_2016_df_pl_4 = saber_2016_df_pl.groupby(pl.col(\"NOMBREMUNICIPIO\")).agg(pl.count())\n",
        "print(\"La cantidad de municipios es: \", len(saber_2016_df_pl_4), \"\\n\")\n",
        "print(\"La cantidad de establecimientos por municipios es: \", saber_2016_df_pl_4, \"\\n\")\n",
        "\n",
        "# Promedios de evaluados por municipio\n",
        "saber_2016_df_pl_5 = saber_2016_df_pl.groupby('NOMBREMUNICIPIO').agg(\n",
        "    [pl.col('EVALUADOS').mean()])\n",
        "print(\"El promedio de evaluados por municipios es: \", saber_2016_df_pl_5, \"\\n\")"
      ],
      "metadata": {
        "id": "jEireAdPAfua"
      },
      "execution_count": null,
      "outputs": []
    },
    {
      "cell_type": "markdown",
      "source": [
        "# Eager vs. Lazy\n",
        "\n",
        "Polars tiene dos APIs diferentes: **eager** and **lazy**.\n",
        "\n",
        "La ejecución **eager** es similar a Pandas (el código se corre directamente y los resultados se calculan de inmediato). \n",
        "\n",
        "La ejecución **lazy** no se ejecuta hasta que se necesiten los resultados. Dado que se evita ejecutar código de manera innecesaria, puede ser más eficiente que la ejecución **eager**.\n",
        "\n",
        "La ejecución lazy requiere el método **.lazy()** al inicio, seguido del código que se quiere ejecutar. Para mostrar los resultados se debe escribir al final el método **.collect()**."
      ],
      "metadata": {
        "id": "Gd4qYMN6Dfnp"
      }
    },
    {
      "cell_type": "code",
      "source": [
        "# Método lazy sin collect\n",
        "df_pl_dict.lazy().with_columns([(pl.col(\"nota\") * 10).alias(\"nota_2\")])"
      ],
      "metadata": {
        "id": "wcC6vyVnsRNu"
      },
      "execution_count": null,
      "outputs": []
    },
    {
      "cell_type": "code",
      "source": [
        "# Metodo lazy con método collect\n",
        "df_pl_dict.lazy().with_columns([(pl.col(\"nota\") * 10).alias(\"nota_2\")]).collect()"
      ],
      "metadata": {
        "id": "bcVCX7jns9ep"
      },
      "execution_count": null,
      "outputs": []
    },
    {
      "cell_type": "markdown",
      "source": [
        "# Aplicaciones"
      ],
      "metadata": {
        "id": "z-cUyWH2vVFn"
      }
    },
    {
      "cell_type": "markdown",
      "source": [
        "# Medir el tiempo de ejecución\n",
        "\n"
      ],
      "metadata": {
        "id": "58qRqbnvvYrV"
      }
    },
    {
      "cell_type": "code",
      "source": [
        "# Importar la librería requerida\n",
        "import time as tm\n",
        "\n",
        "# Establecer el tiempo inicial de ejecución\n",
        "ini_tiempo = tm.time()\n",
        "\n",
        "# Ejemplo de código al que se le va a medir el tiempo de ejecución\n",
        "factorial = 1\n",
        "for i in range(1,100):\n",
        "  factorial *= i\n",
        "print(\"factorial: \", factorial)\n",
        "\n",
        "# Establecer el tiempo final de ejecución\n",
        "fin_tiempo = tm.time()\n",
        "\n",
        "# Calcular el tiempo de ejecución\n",
        "duracion = fin_tiempo - ini_tiempo\n",
        "\n",
        "# Mostrar resultados\n",
        "print(f\"El código se empezó a ejecutar a las {ini_tiempo} y terminó de ejecutar\"\n",
        "      f\"a las {fin_tiempo}. \\nLa duración de la ejecución fue de {duracion}.\")"
      ],
      "metadata": {
        "id": "Sdd3gnk5vgYm"
      },
      "execution_count": null,
      "outputs": []
    },
    {
      "cell_type": "markdown",
      "source": [
        "# Ejercicios \n",
        "Recuerde escribir los códigos de los siguientes ejercicios siguiendo las normas de estilo del PEP8. Todos los ejercicios deben ser resueltos utilizando Polars."
      ],
      "metadata": {
        "id": "c3jCLgfvgocT"
      }
    },
    {
      "cell_type": "markdown",
      "source": [
        "## 00.\n",
        "Utilizando NumPy cree un DataFrame de Polars con 100 filas y cuatro columnas. La primera columna debe tener números aleatorios entre cero y uno. La segunda columna debe tener números aleatorios enteros entre 1 y 100. La tercera columna debe contener números enteros en el rango 1 a 500 generados con la función **arange(**). La cuarta columna debe contener ceros y unos generados de forma aleatoria. Muestre las características del DataFrame."
      ],
      "metadata": {
        "id": "-85qXk1OybpU"
      }
    },
    {
      "cell_type": "code",
      "source": [],
      "metadata": {
        "id": "vcHBQReJyoa1"
      },
      "execution_count": null,
      "outputs": []
    },
    {
      "cell_type": "markdown",
      "source": [
        "## 01.\n",
        "Agregue una columna, con números aleatorios racionales entre 13 y 14, al DataFrame generado en el ejercicio anterior. Muestre las características del DataFrame."
      ],
      "metadata": {
        "id": "xmDYOa6uzA1g"
      }
    },
    {
      "cell_type": "code",
      "source": [],
      "metadata": {
        "id": "nZLzoSVe2S8z"
      },
      "execution_count": null,
      "outputs": []
    },
    {
      "cell_type": "markdown",
      "source": [
        "## 02.\n",
        "Cambie los nombres de las columnas del DataFrame modificado en el ejercicio anterior a Primera, Segunda, Tercera, Cuarta y Quinta. Muestre las características del DataFrame."
      ],
      "metadata": {
        "id": "Cyj4m5Pn2agg"
      }
    },
    {
      "cell_type": "code",
      "source": [],
      "metadata": {
        "id": "uDYbzzcT2qai"
      },
      "execution_count": null,
      "outputs": []
    },
    {
      "cell_type": "markdown",
      "source": [
        "## 03.\n",
        "A partir del DataFrame modificado en el ejercicio anterior genere un nuevo DataFrame de cinco columnas en el que todos los valores de la primera columna estén entre 0.25 y 0.75 (ambos extremos excluidos). Muestre las características del DataFrame."
      ],
      "metadata": {
        "id": "PssLULpe2rHj"
      }
    },
    {
      "cell_type": "code",
      "source": [],
      "metadata": {
        "id": "nToDVRvb3HSf"
      },
      "execution_count": null,
      "outputs": []
    },
    {
      "cell_type": "markdown",
      "source": [
        "## 04.\n",
        "A partir del DataFrame modificado en el ejercicio anterior calcule el promedio de los valores de la tercera columna que corresponden a un valor de 1 en la cuarta columna. Muestre el resultado."
      ],
      "metadata": {
        "id": "2nI3Q-sY3RRt"
      }
    },
    {
      "cell_type": "code",
      "source": [],
      "metadata": {
        "id": "i_Xx0CkX5gwf"
      },
      "execution_count": null,
      "outputs": []
    },
    {
      "cell_type": "markdown",
      "source": [
        "# Exportaciones agrícolas no tradicionales y tradicionales\n",
        "Para los ejercicios 05 a 09 utilice los datos de [Exportaciones agrícolas no tradicionales y tradicionales](https://www.datos.gov.co/Agricultura-y-Desarrollo-Rural/Exportaciones-agr-colas-no-tradicionales-y-tradici/h7mi-sbxb)\n",
        "\n",
        "Lea el archivo desde el siguiente enlace:\n",
        "\n",
        "https://docs.google.com/spreadsheets/d/e/2PACX-1vReTcFIzhR6gH1R09L4HrhSpgnu01t6k4WaHpGQwxiERYp5DJXeesM__JZ5bKlMkDS6oUb-9dNE32yQ/pub?output=csv"
      ],
      "metadata": {
        "id": "mQZnvxpF8f0M"
      }
    },
    {
      "cell_type": "markdown",
      "source": [
        "## 05.\n",
        "Lea el archivo con Polars, genere un DataFrame y muestre las características del DataFrame."
      ],
      "metadata": {
        "id": "CeKiTuyx5qbf"
      }
    },
    {
      "cell_type": "code",
      "source": [],
      "metadata": {
        "id": "XCcJZJnR9FCi"
      },
      "execution_count": null,
      "outputs": []
    },
    {
      "cell_type": "markdown",
      "source": [
        "## 06.\n",
        "Calcule las exportaciones en valor (miles US FOB) y en volumen (toneladas) por departamento. Muestre los resultados."
      ],
      "metadata": {
        "id": "_tsWbMFG9KNE"
      }
    },
    {
      "cell_type": "code",
      "source": [],
      "metadata": {
        "id": "ORw91Jgq9x8g"
      },
      "execution_count": null,
      "outputs": []
    },
    {
      "cell_type": "markdown",
      "source": [
        "## 07.\n",
        "Genere un DataFrame con las exportaciones en valor (miles US FOB) y en volumen (toneladas) para los productos que en la columna 'Producto general' estén clasificados como 'Cacao'. Muestre las características del DataFrame."
      ],
      "metadata": {
        "id": "448etTR398Mn"
      }
    },
    {
      "cell_type": "code",
      "source": [],
      "metadata": {
        "id": "jLIIvLei_rg2"
      },
      "execution_count": null,
      "outputs": []
    },
    {
      "cell_type": "markdown",
      "source": [
        "## 08.\n",
        "Genere un DataFrame con las exportaciones que en valor (miles US FOB) superen los dos mil dólares. Muestre las características del DataFrame."
      ],
      "metadata": {
        "id": "Co3AN2gj_sZN"
      }
    },
    {
      "cell_type": "code",
      "source": [],
      "metadata": {
        "id": "SGNuHgu4A8wf"
      },
      "execution_count": null,
      "outputs": []
    },
    {
      "cell_type": "markdown",
      "source": [
        "## 09.\n",
        "Genere un DataFrame con las exportaciones que en volumen (toneladas) superen las mil toneladas. Muestre las características del DataFrame."
      ],
      "metadata": {
        "id": "ze1_5aObA-_-"
      }
    },
    {
      "cell_type": "code",
      "source": [],
      "metadata": {
        "id": "E3-UvBzZBkjv"
      },
      "execution_count": null,
      "outputs": []
    }
  ]
}