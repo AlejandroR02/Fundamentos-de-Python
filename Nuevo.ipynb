{
  "nbformat": 4,
  "nbformat_minor": 0,
  "metadata": {
    "colab": {
      "provenance": [],
      "toc_visible": true,
      "authorship_tag": "ABX9TyO8nHc8DAT4gB/eQEurrb4f",
      "include_colab_link": true
    },
    "kernelspec": {
      "name": "python3",
      "display_name": "Python 3"
    },
    "language_info": {
      "name": "python"
    }
  },
  "cells": [
    {
      "cell_type": "markdown",
      "metadata": {
        "id": "view-in-github",
        "colab_type": "text"
      },
      "source": [
        "<a href=\"https://colab.research.google.com/github/gabrielawad/talleresGoogleColab/blob/main/Nuevo.ipynb\" target=\"_parent\"><img src=\"https://colab.research.google.com/assets/colab-badge.svg\" alt=\"Open In Colab\"/></a>"
      ]
    },
    {
      "cell_type": "markdown",
      "source": [
        "# Esto es un título"
      ],
      "metadata": {
        "id": "s5phz8QFmmNA"
      }
    },
    {
      "cell_type": "markdown",
      "source": [
        "## Subtítulo\n",
        "[Kaggle](https://www.kaggle.com/)"
      ],
      "metadata": {
        "id": "YkiHbQ9Tmyhw"
      }
    },
    {
      "cell_type": "code",
      "execution_count": null,
      "metadata": {
        "id": "H5fBl8bUmhdC"
      },
      "outputs": [],
      "source": [
        "\n",
        "h = ()\n",
        "if x>=0:\n",
        "\n",
        "\n",
        "\n"
      ]
    }
  ]
}