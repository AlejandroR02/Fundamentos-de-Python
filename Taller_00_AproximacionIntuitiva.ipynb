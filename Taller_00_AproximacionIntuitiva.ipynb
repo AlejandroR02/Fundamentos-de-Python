{
  "nbformat": 4,
  "nbformat_minor": 0,
  "metadata": {
    "colab": {
      "provenance": [],
      "include_colab_link": true
    },
    "kernelspec": {
      "name": "python3",
      "display_name": "Python 3"
    }
  },
  "cells": [
    {
      "cell_type": "markdown",
      "metadata": {
        "id": "view-in-github",
        "colab_type": "text"
      },
      "source": [
        "<a href=\"https://colab.research.google.com/github/gabrielawad/Fundamentos-de-Python/blob/main/Taller_00_AproximacionIntuitiva.ipynb\" target=\"_parent\"><img src=\"https://colab.research.google.com/assets/colab-badge.svg\" alt=\"Open In Colab\"/></a>"
      ]
    },
    {
      "cell_type": "markdown",
      "source": [
        "## *«Hay cosas que para saberlas no basta con haberlas aprendido».*\n",
        "\n",
        "### [Séneca](https://es.wikipedia.org/wiki/S%C3%A9neca)\n",
        "\n"
      ],
      "metadata": {
        "id": "c4BAYiDS1Qki"
      }
    },
    {
      "cell_type": "markdown",
      "metadata": {
        "id": "NTWD1FGwWRRC"
      },
      "source": [
        "# Taller 00\n",
        "\n",
        "Este taller brinda una aproximación **intuitiva** a los notebooks de [Jupyter](https://jupyter.org/) ejecutados en Google Colab y a algunas funcionalidades de Python 3.\n",
        "\n",
        "Los conceptos serán explicados de manera detallada en talleres posteriores.\n",
        "\n",
        "Haga clic en la flecha junto a las celdas de código para ejecutar el programa."
      ]
    },
    {
      "cell_type": "markdown",
      "metadata": {
        "id": "MBE9HODwoB5o"
      },
      "source": [
        "## Casillas de texto\n",
        "Las explicaciones se escriben en casillas de texto que utilizan el protocolo Markdown:\n",
        "\n",
        "[Markdown](https://en.wikipedia.org/wiki/Markdown)\n",
        "\n",
        "[How to Write Faster, Better & Longer: The Ultimate Guide to Markdown](https://blog.ghost.org/markdown/)"
      ]
    },
    {
      "cell_type": "markdown",
      "metadata": {
        "id": "w0t0Fl-Hyo_H"
      },
      "source": [
        "# Instalación del Tutor Magic\n",
        "El Tutor Magic le permitirá realizar pruebas de escritorio de sus programas.\n",
        "\n",
        "El primer paso es instalar el Tutor Magic en Google Colaboratory.\n",
        "\n",
        "La siguiente celda se debe ejecutar cada vez que abra este notebook para poder que funcione el tutor magic en Google Colaboratory"
      ]
    },
    {
      "cell_type": "code",
      "metadata": {
        "id": "6kexUkZ5yvPm"
      },
      "source": [
        "# Instalar el tutormagic\n",
        "!pip install tutormagic\n",
        "\n",
        "# Cargar la extensión\n",
        "%load_ext tutormagic"
      ],
      "execution_count": null,
      "outputs": []
    },
    {
      "cell_type": "markdown",
      "metadata": {
        "id": "5kyR0iZJ0Zji"
      },
      "source": [
        "## Ejemplo de funcionamiento de Tutor Magic\n",
        "El siguiente ejemplo le permitirá apreciar el funcionamiento del Tutor Magic"
      ]
    },
    {
      "cell_type": "code",
      "metadata": {
        "id": "kmSm0WM80Z4S"
      },
      "source": [
        "# La primera línea activa el tutor magic para el ejemplo específico\n",
        "%%tutor --lang python3 -s\n",
        "\n",
        "# Ejercicio de prueba de escritorio\n",
        "numero_1 = 9\n",
        "print(\"Mostrar el valor actual de numero_1:\", numero_1)\n",
        "numero_2 = 5\n",
        "print(\"Mostrar el producto de numero_1 por numero_2: \", numero_1 * numero_2)\n",
        "suma = numero_1 + numero_2\n",
        "div = suma / 4\n",
        "numero_1 = numero_1 - 2\n",
        "nuevo = numero_1 + (suma * 3)\n",
        "final = nuevo * (5 + numero_1)"
      ],
      "execution_count": null,
      "outputs": []
    },
    {
      "cell_type": "markdown",
      "metadata": {
        "id": "c_-v-hNSWoTJ"
      },
      "source": [
        "## Mostrar en pantalla\n",
        "\n",
        "Python 3 utiliza la función **print()** para mostrar un contenido en pantalla."
      ]
    },
    {
      "cell_type": "code",
      "metadata": {
        "id": "oRT0r-zuWNdJ"
      },
      "source": [
        "# La primera línea activa el tutor magic para el ejemplo específico\n",
        "%%tutor --lang python3 -s\n",
        "\n",
        "# Mostrar un texto\n",
        "print (\"¡Me encanta programar!\")"
      ],
      "execution_count": null,
      "outputs": []
    },
    {
      "cell_type": "markdown",
      "metadata": {
        "id": "keyIGJRFDGWP"
      },
      "source": [
        "# Tipos de datos"
      ]
    },
    {
      "cell_type": "markdown",
      "metadata": {
        "id": "XhlZbIxpXymG"
      },
      "source": [
        "## Creación de variables y operaciones con variables\n",
        "\n",
        "Una variable se define asignando un nombre a un espacio.\n",
        "\n",
        "Python 3 permite realizar operaciones matemáticas.\n",
        "\n",
        "Para mostrar el valor contenido en una variable se incluye el nombre de la variables dentro de la función **print()**. El nombre de la variable no va entre comillas."
      ]
    },
    {
      "cell_type": "code",
      "metadata": {
        "id": "8QhKbBKhYi9C"
      },
      "source": [
        "# La primera línea activa el tutor magic para el ejemplo específico\n",
        "%%tutor --lang python3 -s\n",
        "\n",
        "# Programa para calcular el área de un rectángulo\n",
        "\n",
        "# Creación de la variable base y asignación de un valor a dicha variable\n",
        "base = 5\n",
        "\n",
        "# Creación de la variable altura y asignación de un valor a dicha variable\n",
        "altura = 3.14\n",
        "\n",
        "# Cálculo del área del rectángulo\n",
        "area = base * altura\n",
        "\n",
        "# Mostrar el reultado en pantalla\n",
        "print (\"El área del rectángulo es: \", area)\n"
      ],
      "execution_count": null,
      "outputs": []
    },
    {
      "cell_type": "markdown",
      "metadata": {
        "id": "45DxziYqaXHN"
      },
      "source": [
        "## Control del número de decimales mostrados\n",
        "\n",
        "Es posible establecer el número de decimales que se muestran en pantalla utilizando la instrucción **\"%.xf\"%**, siendo x el número de decimales deseados."
      ]
    },
    {
      "cell_type": "code",
      "metadata": {
        "id": "_bP05Pg_ar-l"
      },
      "source": [
        "# La primera línea activa el tutor magic para el ejemplo específico\n",
        "%%tutor --lang python3 -s\n",
        "\n",
        "# Programa para dividir dos números y mostrar el resultado en pantalla\n",
        "\n",
        "# Creación de dos variables y asignación de valores\n",
        "a = 10\n",
        "b = 3\n",
        "\n",
        "# Cálculo de la división entre a y b\n",
        "div = a/b\n",
        "\n",
        "# Mostrar el resultado en pantalla. Observe que los textos van entre comillas pero los nombres\n",
        "# de las variables van sin comillas\n",
        "print(\" El resultado de dividir \", a, \"por \", b, \"es: \", div)\n",
        "\n",
        "# Si se quiere mostar un número específico de decimales es necesario ajustar la instrucción anterior\n",
        "\n",
        "# Mostrar el resultado con dos decimales\n",
        "print(\" El resultado de dividir \", a, \"por \", b, \" aproximado a dos decimales es: \", \"%.2f\"% div)\n",
        "\n",
        "# Mostrar el resultado con quince decimales\n",
        "print(\" El resultado de dividir \", a, \"por \", b, \" aproximado a quince decimales es: \", \"%.15f\"% div)\n",
        "\n",
        "# Mostrar el resultado con veinte decimales\n",
        "print(\" El resultado de dividir \", a, \"por \", b, \" aproximado a veinte decimales es: \", \"%.20f\"% div)"
      ],
      "execution_count": null,
      "outputs": []
    },
    {
      "cell_type": "markdown",
      "metadata": {
        "id": "639Vxt7NDPl9"
      },
      "source": [
        "## ¿Qué tan precisos son los equipos de cómputo?"
      ]
    },
    {
      "cell_type": "code",
      "metadata": {
        "id": "8XLGlpLUDbFV"
      },
      "source": [
        "# La primera línea activa el tutor magic para el ejemplo específico\n",
        "#%%tutor --lang python3 -s\n",
        "\n",
        "# Compare y analice los siguientes resultados\n",
        "x = 4503599627370495.7\n",
        "y = 4503599627370496.7\n",
        "\n",
        "# Comparar y mostrar los resultados\n",
        "print(\"¿Es x un entero ? \", x.is_integer())\n",
        "\n",
        "print(\"¿Es y un entero ? \", y.is_integer())\n",
        "\n",
        "print(\"¿Cuánto es la diferencia entre x y y? \", y-x, \"\\n\")\n",
        "\n",
        "# Observe la evolución de estos resultados\n",
        "for i in range (0,20):\n",
        "  h = (10**i) + 0.1\n",
        "  print(\"¿Es \", h, \"un entero? \", h.is_integer(), \"\\n\")"
      ],
      "execution_count": null,
      "outputs": []
    },
    {
      "cell_type": "markdown",
      "metadata": {
        "id": "70mTuyJDcSA5"
      },
      "source": [
        "## Ingresar información al programa\n",
        "\n",
        "Si se desea que un usuario ingrese un valor al programa se utiliza la función i**nput()**."
      ]
    },
    {
      "cell_type": "code",
      "metadata": {
        "id": "4WiCbb9dcQax"
      },
      "source": [
        "# La primera línea activa el tutor magic para el ejemplo específico\n",
        "%%tutor --lang python3 -s\n",
        "\n",
        "# Programa para ingresar una información\n",
        "\n",
        "# Creación de la variable créditos y asignación de un valor\n",
        "creditos = input (\"¿Cuántos créditos matriculaste este semestre?: \")\n",
        "\n",
        "# Mostrar en pantalla los créditos\n",
        "print (\"Matriculaste\", creditos, \"créditos este semestre.\")"
      ],
      "execution_count": null,
      "outputs": []
    },
    {
      "cell_type": "markdown",
      "metadata": {
        "id": "gty0Bi2kdhqm"
      },
      "source": [
        "## Conversión entre tipos de datos\n",
        "\n",
        "La información ingresada por medio de la función **input()**, es almacenada como una **string** (cadena de texto), para poder hacer operaciones matemáticas con ella es necesario transformarla."
      ]
    },
    {
      "cell_type": "code",
      "metadata": {
        "id": "2aEWt3o5d4m0"
      },
      "source": [
        "# La primera línea activa el tutor magic para el ejemplo específico\n",
        "%%tutor --lang python3 -s\n",
        "\n",
        "# Programa para ingresar un valor y hacer un cálculo a partir de ese valor\n",
        "\n",
        "# Creación de la variable número y asignación de un valor\n",
        "original = input (\"Por favor ingrese un número: \")\n",
        "\n",
        "# Convertir la cadena de texto en un número real\n",
        "original = float (original)\n",
        "\n",
        "# Calcular la raíz cúbica de un número\n",
        "raizcubica = original ** 3\n",
        "\n",
        "# Mostrar el resultado en pantalla\n",
        "print (\"La raíz cúbica de \", original, \"es \", raizcubica)"
      ],
      "execution_count": null,
      "outputs": []
    },
    {
      "cell_type": "markdown",
      "metadata": {
        "id": "8TLqLZQ7fjE4"
      },
      "source": [
        "## Listas\n",
        "\n",
        "Las listas permiten guardar varios valores en un mismo objeto.\n",
        "\n",
        "Se declaran utilizando corchetes (brackets): []\n",
        "\n",
        "Se puede acceder al contenido de un valor específico de una lista indicando su posición. ¡Ojo! Se empieza a contar desde cero."
      ]
    },
    {
      "cell_type": "code",
      "metadata": {
        "id": "8pGpZ3ycghr1"
      },
      "source": [
        "# La primera línea activa el tutor magic para el ejemplo específico\n",
        "%%tutor --lang python3 -s\n",
        "\n",
        "# Programa que crea una lista y muestra su contenido\n",
        "\n",
        "# Creación de la lista y asignación de contenido\n",
        "datos_propietario = [\"Martín\", \"Santomé\", 89756312, 3182117652, \"Carrera 80 F # 75 - 43\",\n",
        "                     \"Barranquilla\"]\n",
        "\n",
        "# Mostrar en pantalla el contenido de la lista\n",
        "print (\"El contenido de la lista es: \", datos_propietario)\n",
        "\n",
        "# Mostrar en pantalla el nombre (se encuentra en la posición 0 de la lista)\n",
        "print (\"El nombre es: \", datos_propietario[0])\n",
        "\n",
        "# Mostrar en pantalla la dirección (se encuentra en la posición 4 de la lista)\n",
        "print (\"La dirección es: \", datos_propietario[4])"
      ],
      "execution_count": null,
      "outputs": []
    },
    {
      "cell_type": "markdown",
      "metadata": {
        "id": "cyuEFQR7twyb"
      },
      "source": [
        "## Operaciones básicas con listas\n",
        "\n",
        "Es posible realizar diversas operaciones con listas como agregar elementos, concatenar listas, mostrar fragmentos de listas"
      ]
    },
    {
      "cell_type": "code",
      "metadata": {
        "id": "aWxOtt-nuP3w"
      },
      "source": [
        "# La primera línea activa el tutor magic para el ejemplo específico\n",
        "%%tutor --lang python3 -s\n",
        "\n",
        "# Programa que ilustra algunas operaciones básicas con listas\n",
        "\n",
        "# Creación de dos listas y asignación de contenidos\n",
        "ejLista1 = [\"Abdulrazak \", \"Gurnah\" \"Tanzania\", 1948, \"20 de diciembre\"]\n",
        "ejLista2 = [\"Paraíso\", 1961,]\n",
        "\n",
        "# Mostrar en pantalla el contenido de las listas\n",
        "print (\"El contenido de la ejLista1 es: \", ejLista1, \"\\n\")\n",
        "print (\"El contenido de la ejLista2 es: \", ejLista2)\n",
        "\n",
        "# Agregar un elemento al final de una lista\n",
        "ejLista1 = ejLista1 + [\"Premio Nobel Literatura 2021\"]\n",
        "\n",
        "# Mostrar en pantalla el contenido de la ejLista1 modificada\n",
        "print (\"El nuevo contenido de la ejLista1 después de haber agregado un elemento al final es: \",\n",
        "       ejLista1)\n",
        "\n",
        "# Crear una lista y concatenar en ella otras listas\n",
        "ejLista3 = ejLista1 + ejLista2\n",
        "\n",
        "# Mostrar en pantalla el contenido de la lista concatenada\n",
        "print(\"El contenido de la ejLista3 es: \", ejLista3)\n",
        "\n",
        "# Mostrar en pantalla el contenido de la ejLista3 a partir del tercer elemento (se encuentra en la\n",
        "# posición 2)\n",
        "print(\"El contenido de la ejLista3 a partir del tercer elemento es: \", ejLista3[2:])"
      ],
      "execution_count": null,
      "outputs": []
    },
    {
      "cell_type": "markdown",
      "metadata": {
        "id": "-zVQbFLGiZZI"
      },
      "source": [
        "## Diccionarios\n",
        "\n",
        "Los diccionarios, al igual que las listas, permiten guardar varios varlores en un mismo objeto.\n",
        "\n",
        "Se declaran utilizando llaves: {}\n",
        "\n",
        "Se puede acceder al contenido de un valor específico de un diccionario indicando su clave."
      ]
    },
    {
      "cell_type": "code",
      "metadata": {
        "id": "1J0JcpYAirwI"
      },
      "source": [
        "# La primera línea activa el tutor magic para el ejemplo específico\n",
        "%%tutor --lang python3 -s\n",
        "\n",
        "# Programa que crea un diccionario y muestra su contenido\n",
        "\n",
        "# Creación del diccionario y asignación de contenido\n",
        "dic_nobel = {\"nombre\": \"Abdulzarak\", \"apellido\": \"Gurnah\", \"nacimiento\": 1948, \"nobel\": 2021}\n",
        "\n",
        "# Mostrar en pantalla el contenido del diccionario\n",
        "print (\"El contenido del diccionario es: \", dic_nobel)\n",
        "\n",
        "# Mostrar en pantalla el nombre del autor (se utiliza la clave \"nombre\")\n",
        "print (\"El nombre del autor es: \", dic_nobel[\"nombre\"])\n",
        "\n",
        "# Mostrar en pantalla la fecha de nacimiento del estudiante (se encuentra la clave \"nacimiento\")\n",
        "print (\"La fecha de nacimiento del autor es: \", dic_nobel[\"nacimiento\"])\n",
        "\n",
        "# Mostrar en pantalla la información completa del estudiante\n",
        "print (dic_nobel[\"nombre\"], dic_nobel[\"apellido\"], \"nació en \", dic_nobel[\"nacimiento\"],\n",
        "       \"y recibió el premio nobel en \", dic_nobel[\"nobel\"])"
      ],
      "execution_count": null,
      "outputs": []
    },
    {
      "cell_type": "markdown",
      "metadata": {
        "id": "iVFrQbYNFSl9"
      },
      "source": [
        "# Control de flujo (condicionales)"
      ]
    },
    {
      "cell_type": "markdown",
      "metadata": {
        "id": "JIgnJ-miF7Uk"
      },
      "source": [
        "## Condicionales\n",
        "\n",
        "Las estructuras condicionales permiten controlar la forma en que se ejecuta un programa a partir del estado de una o más variables"
      ]
    },
    {
      "cell_type": "code",
      "metadata": {
        "id": "OB2SsVCfGPTR"
      },
      "source": [
        "# La primera línea activa el tutor magic para el ejemplo específico\n",
        "%%tutor --lang python3 -s\n",
        "\n",
        "# Programa con un condicional simple\n",
        "\n",
        "# Crear una variable y asignar un valor\n",
        "variable1 = 4\n",
        "\n",
        "# Evaluar la condición\n",
        "if variable1 < 5:\n",
        "  print(\"El valor de variable1 es menor que cinco.\")\n",
        "\n",
        "# La siguiente instrucción se ejecuta para cualquier valor de variable1\n",
        "print(\"Trabajo terminado.\")"
      ],
      "execution_count": null,
      "outputs": []
    },
    {
      "cell_type": "code",
      "metadata": {
        "id": "rhchIvclGuM5"
      },
      "source": [
        "# La primera línea activa el tutor magic para el ejemplo específico\n",
        "%%tutor --lang python3 -s\n",
        "\n",
        "# Programa con un condicional compuesto\n",
        "\n",
        "# Crear una variable y asignar un valor\n",
        "variable2 = 5\n",
        "\n",
        "# Evaluar la condición\n",
        "if variable2 < 5:\n",
        "  print(\"El valor de variable2 es menor que cinco.\")\n",
        "else:\n",
        "  print(\"El valor de variable2 es mayor o igual a cinco.\")\n",
        "\n",
        "# La siguiente instrucción se ejecuta para cualquier valor de variable1\n",
        "print(\"Trabajo terminado.\")"
      ],
      "execution_count": null,
      "outputs": []
    },
    {
      "cell_type": "markdown",
      "metadata": {
        "id": "3r4Z9QTnFbcg"
      },
      "source": [
        "# Iteraciones"
      ]
    },
    {
      "cell_type": "markdown",
      "metadata": {
        "id": "aCgc3VtJKHcz"
      },
      "source": [
        "## Iteraciones definidas\n",
        "\n",
        "En las interaciones definidas se repite un conjunto de instrucciones un número preestablecido de veces."
      ]
    },
    {
      "cell_type": "code",
      "metadata": {
        "id": "GuASZHcJKYn2"
      },
      "source": [
        "# La primera línea activa el tutor magic para el ejemplo específico\n",
        "%%tutor --lang python3 -s\n",
        "\n",
        "# Programa que imprime una serie de números por medio de una iteración definida\n",
        "for h in range(5):\n",
        "  print(h)"
      ],
      "execution_count": null,
      "outputs": []
    },
    {
      "cell_type": "code",
      "metadata": {
        "id": "rXgzG4-UKsVz"
      },
      "source": [
        "# La primera línea activa el tutor magic para el ejemplo específico\n",
        "%%tutor --lang python3 -s\n",
        "\n",
        "# Programa que imprime el contenido de una lista por medio de una iteración definida\n",
        "\n",
        "# Crear una lista\n",
        "listaEj= [1, \"a\", 3.0, True, \"Lo mejor de mi día es programar un computador\"]\n",
        "\n",
        "# Imprimir el contenido de la lista\n",
        "for m in listaEj:\n",
        "  print(m)"
      ],
      "execution_count": null,
      "outputs": []
    },
    {
      "cell_type": "markdown",
      "metadata": {
        "id": "_dU0fZ9tLQRU"
      },
      "source": [
        "## Iteraciones indefinidas\n",
        "\n",
        "En las interaciones indefinidas se repite un conjunto de instrucciones mientras se cumpla una condición."
      ]
    },
    {
      "cell_type": "code",
      "metadata": {
        "id": "N4vSeg5xLmMP"
      },
      "source": [
        "# La primera línea activa el tutor magic para el ejemplo específico\n",
        "%%tutor --lang python3 -s\n",
        "\n",
        "# Programa que imprime una serie de números por medio de una iteración indefinida\n",
        "\n",
        "# Crear una variable que se utilizará como contador\n",
        "contador = 0\n",
        "\n",
        "# Imprimir el contenido de la variable en bucle miento que el valor sea menor que 8\n",
        "while contador < 8:\n",
        "  print(\"El valor de contador es:\", contador, \"'\\n\")\n",
        "  contador = contador + 1"
      ],
      "execution_count": null,
      "outputs": []
    },
    {
      "cell_type": "markdown",
      "metadata": {
        "id": "hI8njRKHFmXE"
      },
      "source": [
        "# Funciones"
      ]
    },
    {
      "cell_type": "markdown",
      "metadata": {
        "id": "r1ZbecmYVDdU"
      },
      "source": [
        "## Funciones \"estériles\"\n",
        "\n",
        "Las funciones \"estériles\" son líneas de código que ejecutan acciones, pero no devuelven nada al cuerpo del programa.\n",
        "\n",
        "Las funciones se documentan siguiendo el protocolo de [Google Style Python Docstrings](https://gist.github.com/redlotus/3bc387c2591e3e908c9b63b97b11d24e)."
      ]
    },
    {
      "cell_type": "code",
      "metadata": {
        "id": "njhDsu8YMSFV"
      },
      "source": [
        "# La primera línea activa el tutor magic para el ejemplo específico\n",
        "%%tutor --lang python3 -s\n",
        "\n",
        "# Programa que define e invoca una función \"estéril\"\n",
        "\n",
        "# Creación de una función\n",
        "def imprime(c):\n",
        "    \"\"\"Imprime el valor de la variable c.\n",
        "\n",
        "    Args:\n",
        "         c (any): El valor que se imprimirá.\n",
        "\n",
        "    Returns:\n",
        "          None\n",
        "\n",
        "    \"\"\"\n",
        "    print(c)\n",
        "\n",
        "# Invocar la función con un texto\n",
        "imprime(\"Toro ese llanto por nara\")\n",
        "\n",
        "# Crear dos variables\n",
        "a = 5\n",
        "b = 3\n",
        "\n",
        "#Invocar la función con una operación\n",
        "imprime(a+b)\n",
        "\n",
        "imprime(a*b)\n",
        "\n",
        "# La función help permite conocer el contenido de un objeto en Python\n",
        "help(imprime)"
      ],
      "execution_count": null,
      "outputs": []
    },
    {
      "cell_type": "markdown",
      "metadata": {
        "id": "ZnicBaz-VWyl"
      },
      "source": [
        "## Funciones \"fértiles\"\n",
        "\n",
        "Las funciones \"fértiles\" son líneas de código que ejecutan acciones y luego devuelven \"un valor\" al cuerpo del programa.\n",
        "\n",
        "Las funciones se documentan siguiendo el protocolo de [Google Style Python Docstrings](https://gist.github.com/redlotus/3bc387c2591e3e908c9b63b97b11d24e)."
      ]
    },
    {
      "cell_type": "code",
      "metadata": {
        "id": "K0CoRrl1TuzK"
      },
      "source": [
        "# La primera línea activa el tutor magic para el ejemplo específico\n",
        "%%tutor --lang python3 -s\n",
        "\n",
        "# Programa que define e invoca una función \"fértil\"\n",
        "\n",
        "# Crear la función\n",
        "def area_cuadrado(lado):\n",
        "    \"\"\"Calcula el área de un cuadrado.\n",
        "\n",
        "    Args:\n",
        "       lado (float or int): La longitud del lado del cuadrado.\n",
        "\n",
        "    Returns:\n",
        "       float or int: El área del cuadrado.\n",
        "\n",
        "    \"\"\"\n",
        "    # Calcular el área del cuadrado\n",
        "    areacuadrado = lado ** 2\n",
        "\n",
        "    # Devolver el área del cuadrado\n",
        "    return areacuadrado\n",
        "\n",
        "\n",
        "# Invocar la función areaCua y guarda el valor en una variable\n",
        "areaCuadrado = areaCua(6)\n",
        "\n",
        "# Mostrar en pantalla el valor de la variable\n",
        "print(\"El área del cuadrado es:\", area_cuadrado, \"'\\n\")\n",
        "\n",
        "# La función help permite conocer el contenido de un objeto en Python\n",
        "help(area_cuadrado)"
      ],
      "execution_count": null,
      "outputs": []
    },
    {
      "cell_type": "code",
      "metadata": {
        "id": "dtoxFFsaVtTZ"
      },
      "source": [
        "# La primera línea activa el tutor magic para el ejemplo específico\n",
        "%%tutor --lang python3 -s\n",
        "\n",
        "# Programa que define e invoca una función \"fértil\"\n",
        "\n",
        "# Crear la función\n",
        "def tusDatos():\n",
        "    \"\"\"Solicita al usuario que ingrese su nombre y su programa curricular, y devuelve una\n",
        "    lista con estos datos.\n",
        "\n",
        "    Args:\n",
        "        None\n",
        "\n",
        "    Returns:\n",
        "        list: Una lista que contiene el nombre y el programa curricular ingresados por el usuario.\n",
        "\n",
        "    \"\"\"\n",
        "\n",
        "    # Crear una lista\n",
        "    datos = []\n",
        "\n",
        "    # Solicitar al usuario que ingrese su nombre\n",
        "    name = input(\"Por favor ingresa tu nombre: \")\n",
        "\n",
        "    # Agregar los datos al final de la lista\n",
        "    datos.append(name)\n",
        "\n",
        "    # Solicitar al usuario que ingrese su programa curricular\n",
        "    carrera = input(\"Por favor ingresa tu programa curricular: \")\n",
        "\n",
        "    # Agregar los datos al final de la lista\n",
        "    datos.append(carrera)\n",
        "\n",
        "    # Devolver la lista\n",
        "    return datos\n",
        "\n",
        "# Crear la variable e invocar la función\n",
        "datos_estudiante =tusDatos()\n",
        "\n",
        "# Mostrar en pantalla el valor de la variable\n",
        "print(\"Los datos del estudiante son:\", datos_estudiante, \"'\\n\")\n",
        "\n",
        "# Construir un texto con el contenido de la lista\n",
        "print(\"Hola,\"+m[0]+\".\", \"¡Felicitaciones!\", m[1], \"es un excelente programa.\")"
      ],
      "execution_count": null,
      "outputs": []
    },
    {
      "cell_type": "markdown",
      "metadata": {
        "id": "UQKDK7N6Fo_n"
      },
      "source": [
        "# Archivos y buenas prácticas de programación"
      ]
    },
    {
      "cell_type": "markdown",
      "metadata": {
        "id": "LeEkRWYtnNkA"
      },
      "source": [
        "## Manejo de errores\n",
        "\n",
        "Por medio de la instrucción *try/except* es posible gestionar los errores que aparezcan durante la ejecución de un código."
      ]
    },
    {
      "cell_type": "code",
      "metadata": {
        "id": "GPH04VUInmeM"
      },
      "source": [
        "# La primera línea activa el tutor magic para el ejemplo específico\n",
        "%%tutor --lang python3 -s\n",
        "\n",
        "# Programa que suspende su ejecución por que se presenta un error\n",
        "\n",
        "# Crear una variable\n",
        "numeroA = \"hola\"\n",
        "\n",
        "# Elevar al cuadrado una variable y guardar el resultado en otra variable\n",
        "respuesta = numeroA ** 2\n",
        "\n",
        "# Mostrar el resultado en pantalla\n",
        "print (respuesta)\n",
        "\n",
        "# Mostrar un texto en pantalla\n",
        "print (\"Conserva la calma. Todo funciona bien.\")"
      ],
      "execution_count": null,
      "outputs": []
    },
    {
      "cell_type": "code",
      "metadata": {
        "id": "KeIFye0FoF5i"
      },
      "source": [
        "# La primera línea activa el tutor magic para el ejemplo específico\n",
        "%%tutor --lang python3 -s\n",
        "\n",
        "# Programa que gestiona un error de ejecución por medio de la instrucción try/except\n",
        "\n",
        "# Crear un bloque try-except\n",
        "try:\n",
        "  # Crear una variable\n",
        "  numeroA = \"hola\"\n",
        "\n",
        "  # Elevar al cuadrado una variable\n",
        "  respuesta = numeroA ** 2\n",
        "\n",
        "  # Mostrar el resultado\n",
        "  print (respuesta)\n",
        "\n",
        "# Definir el bloque de excepciones\n",
        "except Exception:\n",
        "  print(\"Tenemos problemas. Es hora de revisar el código.\")\n",
        "\n",
        "# Mostrar un texto en pantalla\n",
        "print (\"Conserva la calma. Todo funciona bien.\")"
      ],
      "execution_count": null,
      "outputs": []
    },
    {
      "cell_type": "markdown",
      "metadata": {
        "id": "y4tzo9jNp5Xj"
      },
      "source": [
        "## Importar archivos\n",
        "\n",
        "Es posible importar archivos y usar las funciones allí definidas dentro de otro código.\n",
        "\n",
        "Este es el principio básico del funcionamiento de las librerías.\n",
        "\n",
        "Descargue desde GitHub el archivo [misprimerasfunciones.py](https://github.com/gabrielawad/Fundamentos-de-Python/blob/main/Archivo_datos/misprimerasfunciones.py) y súbalo al archivo de Google Colaboratory en el que está trabajando."
      ]
    },
    {
      "cell_type": "code",
      "metadata": {
        "id": "V1tbwW88qUiC"
      },
      "source": [
        "# La primera línea activa el tutor magic para el ejemplo específico\n",
        "#%%tutor --lang python3 -s\n",
        "\n",
        "# Programa que importa un archivo y usas sus funciones dentro de otro programa\n",
        "\n",
        "# Importar un archivo\n",
        "import misprimerasfunciones as mpf\n",
        "\n",
        "# Funciones \"estériles\" importadas\n",
        "mpf.imprime(\"Toro ese llanto por nara\")\n",
        "\n",
        "# Crear dos variables\n",
        "a = 5\n",
        "b = 3\n",
        "\n",
        "# Invocar la función con una operación\n",
        "mpf.imprime(a+b)\n",
        "\n",
        "mpf.imprime(a*b)\n",
        "\n",
        "# Funciones \"fértiles\" importadas\n",
        "\n",
        "# Crear una variable invocando una función\n",
        "areaCuadrado = mpf.area_cuadrado(8)\n",
        "\n",
        "print(\"El área del cuadrado es:\", areaCuadrado)\n",
        "\n",
        "# Crear una variable invocando una función\n",
        "m =mpf.tusDatos()\n",
        "\n",
        "# Mostrar en pantalla el valor de la variable\n",
        "print(m)\n",
        "\n",
        "# Mostrar un texto a partir del contenido de una lista\n",
        "print(\"Hola,\"+m[0]+\".\", \"¡Felicitaciones!\", m[1], \"es un excelente programa.\")"
      ],
      "execution_count": null,
      "outputs": []
    }
  ]
}