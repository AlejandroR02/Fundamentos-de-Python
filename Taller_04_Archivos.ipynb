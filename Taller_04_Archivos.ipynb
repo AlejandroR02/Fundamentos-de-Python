{
  "nbformat": 4,
  "nbformat_minor": 0,
  "metadata": {
    "colab": {
      "provenance": [],
      "toc_visible": true,
      "mount_file_id": "1P9AbUeE_Qp7QkpCI4hIw_e_dgSa5L9mz",
      "authorship_tag": "ABX9TyOslgAwQ/tMdGv/W3pn6hQ+",
      "include_colab_link": true
    },
    "kernelspec": {
      "name": "python3",
      "display_name": "Python 3"
    }
  },
  "cells": [
    {
      "cell_type": "markdown",
      "metadata": {
        "id": "view-in-github",
        "colab_type": "text"
      },
      "source": [
        "<a href=\"https://colab.research.google.com/github/gabrielawad/talleresGoogleColab/blob/main/Taller_04_Archivos.ipynb\" target=\"_parent\"><img src=\"https://colab.research.google.com/assets/colab-badge.svg\" alt=\"Open In Colab\"/></a>"
      ]
    },
    {
      "cell_type": "markdown",
      "source": [
        "## *«Allí donde una uña es suficiente no utilices un hacha.»*\n",
        "### Proverbio indio"
      ],
      "metadata": {
        "id": "UDCfj30q8aDD"
      }
    },
    {
      "cell_type": "markdown",
      "metadata": {
        "id": "mCkyuX8p2SYu"
      },
      "source": [
        "# Taller 04 Archivos\n",
        "En este taller aprenderá los conceptos básicos relativos al manejo de archivos en Python 3.\n"
      ]
    },
    {
      "cell_type": "markdown",
      "metadata": {
        "id": "ig-3HZXDoztU"
      },
      "source": [
        "## Manejo de archivos en Python 3\n",
        "\n",
        "Puede consultar más información sobre manejo de archivos en Python en los siguientes enlaces:\n",
        "\n",
        "[w3schols Python File Methods](https://www.w3schools.com/python/python_ref_file.asp)\n",
        "\n",
        "[Introduction to File Operations in Python](https://www.analyticsvidhya.com/blog/2021/10/introduction-to-file-operations-in-python/?utm_source=feedburner&utm_medium=email&utm_campaign=Feed%3A+AnalyticsVidhya+%28Analytics+Vidhya%29)\n",
        "\n",
        "[Reading and Writing Files in Python (Guide)](https://realpython.com/read-write-files-python/)\n",
        "\n",
        "\n",
        "\n",
        "\n"
      ]
    },
    {
      "cell_type": "markdown",
      "metadata": {
        "id": "lxZIOnUQn4Wk"
      },
      "source": [
        "### Crear y abrir un archivo de texto\n",
        "Los archivos son objetos que sirven para almacenar información de forma permanente, aún después de terminar el programa. Sin embargo, Python no abre el archivo de la misma manera que lo haría un editor especializado, como Microsoft Excel o Word. Python crea una conexión al archivo, la cual apunta a una __posición en particular__ de este (carpeta o dirección en el disco duro), y por medio de ella edita o lee la información contenida en el archivo.\n",
        "\n",
        "Establecer esta conexión se denomina \"abrir\" el archivo. Esto se logra asociando una variable a nuestro archivo, y esta servirá de conexión con el archivo en nuestro disco. Lo hacemos llamando la función de Python **open()**, la cual recibe \n",
        "el nombre del archivo y un argumento que indica qué se desea hacer con el archivo, de la siguiente forma:\n",
        "\n",
        "* **r** : Sólo lectura. Se podrá recuperar información del archivo, pero no editarla. El archivo se debe guardar en la misma carpeta donde se guardó este notebook.\n",
        "* **w** : Sólo escritura. Se podrá editar información del archivo, pero no recuperarla. Si el archivo no existe, lo crea y queda guardado en la misma carpeta donde se guardó este notebook.\n",
        "* **a** : Sólo escritura, pero al final del archivo. No se puede modificar información antigua, pero sí adicionar.\n",
        "* **+** : El adicionar '+' a 'r' o 'w' permitirá tanto leer como escribir en el archivo.\n",
        "\n",
        "Para evitar inconvenientes, es buena práctica cerrar el archivo al momento de terminar de leer o escribir en él, para evitar perdida de información accidental. El cerrar el archivo cierra la conexión que se tiene con este, y si se desea volver a escribir o leer información de él, deberá abrirse nuevamente.\n",
        "\n",
        "Además de <i>open()</i> y <i>close()</i>, existen varias funciones propias de Python para manejar archivos.\n"
      ]
    },
    {
      "cell_type": "code",
      "metadata": {
        "id": "slxKwD0gn4Wk"
      },
      "source": [
        "# Ejecute estas instrucciones y observe el resultado obtenido\n",
        "\n",
        "# la siguiente instrucción carga la librería para el manejo de archivos en Google Colaboratory\n",
        "#from google.colab import files\n",
        "\n",
        "# abrir un archivo y guardarlo en un objeto de Python 3. \n",
        "#Si no existe un archivo holaMundo.txt se crea utilizando el modo escritura. \n",
        "#Verifique en la barra lateral (después de actualizar). \n",
        "miArchivo = open('holaMundo.txt', 'w')\n",
        "\n",
        "# se cierra el archivo\n",
        "miArchivo.close()\n",
        "\n",
        "# se abre el archivo 'holaMundo.txt' en modo lectura\n",
        "miArchivo = open('holaMundo.txt', 'r')\n",
        "\n",
        "# muestra en pantalla las características del archivo\n",
        "print(miArchivo)\n",
        "\n",
        "# se cierra el archivo.\n",
        "miArchivo.close()"
      ],
      "execution_count": null,
      "outputs": []
    },
    {
      "cell_type": "markdown",
      "metadata": {
        "id": "I7IMFcPIn4Wk"
      },
      "source": [
        "\n",
        "\n",
        "### Escribir un archivo de texto:\n",
        "El escribir a los archivos se hace por medio del metodo <b>write()</b>, y siempre debemos escribir cadenas de caracteres. \n",
        "\n",
        "Si queremos iniciar una nueva línea en el archivo (quizá para almacenar diferentes tipos de información), no es suficiente con invocar múltiples veces el método write.\n",
        "\n",
        "Ejecute los siguientes ejemplos de código uno a uno, y verifique los contenidos del archivo."
      ]
    },
    {
      "cell_type": "code",
      "metadata": {
        "id": "7BgM5F4Dn4Wk"
      },
      "source": [
        "# la siguiente instrucción carga la librería para el manejo de archivos en Google Colaboratory\n",
        "#from google.colab import files\n",
        "\n",
        "# se abre el archivo en modo escritura y lectura y se guarda en un objeto de Python 3\n",
        "miArchivo = open('holaMundo.txt', 'w+')\n",
        "\n",
        "# escribir contenido en un archivo de texto\n",
        "miArchivo.write(\"Hola\")\n",
        "miArchivo.write(\"Mundo!\")\n",
        "\n",
        "# agregar saltos de linea = \\n en un archivo de texto\n",
        "miArchivo.write(\"\\n\")\n",
        "miArchivo.write(\"\\nHola\") \n",
        "miArchivo.write(\"\\nMundo!\")\n",
        "miArchivo.write(\"\\n\")\n",
        "\n",
        "# pruebe con \\t ¿Cual es el resultado?\n",
        "miArchivo.write(\"\\tHola\") \n",
        "miArchivo.write(\"\\tMundo!\")\n",
        "\n",
        "miArchivo.close()"
      ],
      "execution_count": null,
      "outputs": []
    },
    {
      "cell_type": "markdown",
      "metadata": {
        "id": "4KCJlY8Rn4Wz"
      },
      "source": [
        "### Leer un archivo de texto\n",
        "Para leer el contenido de un archivo línea a línea se usa una de las siguientes funciones:\n",
        "\n",
        "* La función <b>readlines()</b>. Esta función nos da una lista con cada línea del archivo guardada en una posición diferente de la lista como un string. Nótese que en este caso, los saltos de línea sí aparecerán en la lista, por lo que hay que tener cuidado a la hora de procesar la información.\n",
        "* La instrucción <b>readline()</b> lee la línea actual. Resulta bastante útil si no se desea leer todo el archivo, pero sí información puntual.\n",
        "\n",
        "\n"
      ]
    },
    {
      "cell_type": "markdown",
      "metadata": {
        "id": "Ht13pMrZX-D7"
      },
      "source": [
        "#### Ejemplo de lectura de contenido de archivo de texto con readlines()"
      ]
    },
    {
      "cell_type": "code",
      "metadata": {
        "id": "vJl-QesTKqmU"
      },
      "source": [
        "# abrir un archivo\n",
        "miArchivo = open('OtraVez_ZionYLennon.txt', 'r')\n",
        "\n",
        "# leer el contenido del archivo con readlines()\n",
        "otraVez = miArchivo.readlines()\n",
        "print(\"Esta es la letra de la canción 'Otra vez' de Zion & Lennon \\n\", otraVez)\n",
        "\n",
        "# cerrar el archivo\n",
        "miArchivo.close()\n",
        "\n",
        "#for linea in otraVez:\n",
        "  #print(linea)\n"
      ],
      "execution_count": null,
      "outputs": []
    },
    {
      "cell_type": "markdown",
      "metadata": {
        "id": "e5ptW9esYPZJ"
      },
      "source": [
        "#### Ejemplo de lectura de contenido de archivo de texto con readline()"
      ]
    },
    {
      "cell_type": "code",
      "metadata": {
        "id": "X7gNGv6bYVAO"
      },
      "source": [
        "# abrir un archivo\n",
        "miArchivo = open('OtraVez_ZionYLennon.txt', 'r')\n",
        "\n",
        "# leer el contenido del archivo con readline()\n",
        "\n",
        "# crear una lista vacía para procesar la información\n",
        "nuevoIntento=[]\n",
        "\n",
        "# ciclo for que recorre el contenido del archivo\n",
        "for i in miArchivo:\n",
        "  # agregar cada línea del archivo a la lista\n",
        "  nuevoIntento.append(i)\n",
        "\n",
        "print(\"Esta es la letra de la canción 'Otra vez' de Zion & Lennon \\n\", nuevoIntento)\n",
        "\n",
        "# cerrar el archivo\n",
        "miArchivo.close()\n",
        "\n",
        "\n",
        "#for linea in nuevoIntento:\n",
        "  #print(linea)\n"
      ],
      "execution_count": null,
      "outputs": []
    },
    {
      "cell_type": "markdown",
      "metadata": {
        "id": "RQN6_SLuKJdf"
      },
      "source": [
        "### Apuntador de posición\n",
        "Toda operación de lectura y escritura en un archivo tiene que saber dónde se realizará. Antes de mirar estas operaciones, es mejor entender a cada archivo como una lista gigante que tiene diferentes caracteres en cada posición. El apuntador de posición del archivo nos dice cuál será el siguiente lugar donde leeremos o escribiremos.\n",
        "\n",
        "Cada vez que leemos o escribimos, este apuntador aumenta en 1 hasta que terminemos de leer o escribir. Suele comenzar apuntando al inicio del archivo, pero podemos reubicarlo con el método <b>seek()</b>.\n",
        "\n",
        "Si queremos confirmar la posición en el archivo en la cual se encuentra el apuntador, podemos utilizar la función <b>tell()</b>."
      ]
    },
    {
      "cell_type": "code",
      "metadata": {
        "id": "HdalITmKn4Wz"
      },
      "source": [
        "# abrir un archivo\n",
        "miArchivo = open('holaMundo.txt', 'r')\n",
        "\n",
        "# mostrar en pantalla donde está el puntero al inicio de la lectura\n",
        "print(\"Aquí inicia la lectura del archivo: \", miArchivo.tell())\n",
        "\n",
        "# leer la primera línea del archivo\n",
        "primeraLinea = miArchivo.readline()\n",
        "# mostrar en pantalla donde está el puntero después de leer la primera línea\n",
        "print(\"Aquí estamos después de leer una línea: \", miArchivo.tell())\n",
        "\n",
        "# leer la segunda línea del archivo\n",
        "segundaLinea = miArchivo.readline()\n",
        "# mostrar en pantalla donde está el puntero después de leer la segunda línea\n",
        "print(\"Aquí estamos después de leer la segunda línea: \", miArchivo.tell())\n",
        "\n",
        "\n",
        "# ubicar el puntero al comienzo del archivo\n",
        "miArchivo.seek(0,0)\n",
        "# mostrar en pantalla donde está el puntero después de leer la primera línea\n",
        "print(\"Aquí estamos después de mover el puntero al inicio: \", miArchivo.tell())\n",
        "# leer el contenido de la línea en la que se encuentra el puntero\n",
        "nuevaLinea = miArchivo.readline()\n",
        "# mostrar la línea leída\n",
        "print(nuevaLinea)\n",
        "\n",
        "\n",
        "# ubicar el puntero en una posición específica del archivo\n",
        "miArchivo.seek(20)\n",
        "# mostrar en pantalla donde está el puntero en este momento\n",
        "print(\"Aquí estamos en este momento: \", miArchivo.tell())\n",
        "# leer el contenido de la línea en la que se encuentra el puntero\n",
        "newLinea = miArchivo.readline()\n",
        "# mostrar la línea leída\n",
        "print(newLinea)\n",
        "\n",
        "# cerrar el archivo\n",
        "miArchivo.close()"
      ],
      "execution_count": null,
      "outputs": []
    },
    {
      "cell_type": "markdown",
      "metadata": {
        "id": "DB22rmswFO0U"
      },
      "source": [
        "### Ejemplo de manipulación de un archivo de texto"
      ]
    },
    {
      "cell_type": "code",
      "metadata": {
        "id": "TT0YwHzJFWY9"
      },
      "source": [
        "# abrir un archivo\n",
        "miArchivo = open('OtraVez_ZionYLennon.txt', 'r')\n",
        "\n",
        "# leer el contenido del archivo con readline()\n",
        "\n",
        "# crear una lista vacía para procesar la información\n",
        "nuevoIntento=[]\n",
        "\n",
        "# ciclo for que recorre el contenido del archivo\n",
        "for i in miArchivo:\n",
        "  # eliminar el \\n de las líneas que tienen texto\n",
        "  a=i\n",
        "  if len(a)>1:\n",
        "    a=a.rstrip('\\n')\n",
        "  # agregar cada línea del archivo a la lista\n",
        "  nuevoIntento.append(a)\n",
        "\n",
        "print(\"Esta es la letra de la canción 'Otra vez' de Zion & Lennon \\n\", nuevoIntento)\n",
        "\n",
        "# cerrar el archivo\n",
        "miArchivo.close()\n",
        "\n",
        "# cambiar toda la canción a mayúsculas\n",
        "mayusculas =[]\n",
        "\n",
        "for i in nuevoIntento:\n",
        "  if len(i)>1:\n",
        "    mayusculas.append(i.upper())\n",
        "  else:\n",
        "    mayusculas.append(i)\n",
        "\n",
        "\n",
        "for linea in nuevoIntento:\n",
        "  print(linea)\n",
        "\n",
        "for linea in mayusculas:\n",
        "  print(linea)\n",
        "\n",
        "# guardar la transformación en un nuevo archivo\n",
        "# se abre el archivo en modo escritura y lectura y se guarda en un objeto de Python 3\n",
        "may = open('nuevaCancion.txt', 'w+')\n",
        "\n",
        "# escribir la letra en mayúscula en el archivo\n",
        "for linea in mayusculas:\n",
        "  may.write(linea +\"\\n\")\n",
        "\n",
        "# cerrar el archivo\n",
        "may.close()"
      ],
      "execution_count": null,
      "outputs": []
    },
    {
      "cell_type": "markdown",
      "metadata": {
        "id": "4yOhOJYBpVrs"
      },
      "source": [
        "## Manejo de archivos de Excel en Python 3\n",
        "\n",
        "Puede consultar más información sobre manejo de archivos de Excel en Python 3 en los siguientes enlaces:\n",
        "\n",
        "[Lectura y escritura de hojas Excel](http://www.denebola.org/japp/pythoncientifico/source/hojas_excel.html)\n",
        "\n",
        "[OpenPyXL - Working with Microsoft Excel Using Python](https://www.blog.pythonlibrary.org/2020/11/03/openpyxl-working-with-microsoft-excel-using-python/)\n",
        "\n",
        "[A Guide to Excel Spreadsheets in Python With openpyxl](https://realpython.com/openpyxl-excel-spreadsheets-python/)"
      ]
    },
    {
      "cell_type": "markdown",
      "metadata": {
        "id": "xcRb8OPFpVqi"
      },
      "source": [
        "### Crear y guardar archivos de Excel\n",
        "Los mismos principios de manipulación de archivos de texto aplican para hojas de excel, con algunas diferencias:\n",
        "\n",
        "* Se tienen libros de trabajo o workbooks.\n",
        "    * Cada workbook tiene hojas de cálculo\n",
        "    * Cada hoja de cálculo tiene celdas, las cuales están en columnas y filas.\n",
        "* Se debe guardar cada archivo manualmente con el método <b>save()</b>.\n",
        "* De forma similar a las listas, se pueden acceder múltiples celdas a la vez con el operador **' : '**."
      ]
    },
    {
      "cell_type": "code",
      "metadata": {
        "id": "LvcAlmjan4Wz"
      },
      "source": [
        "# Ejecute estas instrucciones y observe el resultado obtenido\n",
        "\n",
        "# la siguiente instrucción carga la librería para el manejo de archivos en Google Colaboratory\n",
        "#from google.colab import files\n",
        "\n",
        "# importar la librería requerida para archivos de Excel\n",
        "import openpyxl\n",
        "\n",
        "# crear un archivo de Excel\n",
        "miArchivo = openpyxl.Workbook()\n",
        "\n",
        "# asignar la hoja de cálculo activa (miArchivo) a una objeto de Phyton (miHojaCalc)\n",
        "miHojaCalc = miArchivo.active\n",
        "\n",
        "# escribir contenidos en diferentes casillas de la hoja de cálculo\n",
        "miHojaCalc['A1'] = \"Soy una celda\"\n",
        "miHojaCalc['B2'] = \"Y yo otra!\"\n",
        "miHojaCalc['C3'] = \"Yo no, yo no soy una celda... Soy diferente\"\n",
        "miHojaCalc['A2'] = \"5850\"\n",
        "\n",
        "# guardar el contenido en un archivo para descargar\n",
        "miArchivo.save(\"taller_excel.xlsx\")\n",
        "\n",
        "# cerrar el archivo\n",
        "miArchivo.close()\n",
        "\n",
        "# abrir el archivo\n",
        "nuevoArchivo = openpyxl.load_workbook('taller_excel.xlsx')\n",
        "\n",
        "# asignar la hoja de cálculo activa a un objeto de Python\n",
        "new=nuevoArchivo.active\n",
        "\n",
        "# leer y mostrar informacion del XLSX\n",
        "# crear lista con las posiciones que tienen información\n",
        "posiciones =[\"A1\",\"A2\",\"B2\",\"C3\"]\n",
        "\n",
        "# guardar la información del archivo en una lista\n",
        "datos=[]\n",
        "for pos in posiciones:\n",
        "  #print(new[pos].value)\n",
        "  datos.append(new[pos].value)\n",
        "\n",
        "# validar lectura de información\n",
        "print(\"Esto es datos: \", datos)\n",
        "\n",
        "# identificar la clase de objeto que es datos\n",
        "print(f\"datos es un objeto del tipo: {type(datos)}\")\n",
        "\n",
        "# imprimir los contenidos del archivo indicando su posición\n",
        "for i in range(len(posiciones)):\n",
        "  print(f\"El valor contenido en la celda {posiciones[i]} es {datos[i]}\\n \")"
      ],
      "execution_count": null,
      "outputs": []
    },
    {
      "cell_type": "markdown",
      "metadata": {
        "id": "qSddDHJ8XBuK"
      },
      "source": [
        "### Ejemplo de manipulación de archivo de Excel\n"
      ]
    },
    {
      "cell_type": "code",
      "metadata": {
        "id": "So9-kyZ0XLx5"
      },
      "source": [
        "# importar la librería para trabajar con archivos *.xls\n",
        "import openpyxl\n",
        "\n",
        "# cargar el archivo de Excel\n",
        "nuevo = openpyxl.load_workbook(\"ejemploLectura.xlsx\")\n",
        "\n",
        "# activar el contenido del archivo de Excel\n",
        "datos=nuevo.active\n",
        "\n",
        "# número de filas del archivo\n",
        "print(f\"El número de filas del archivo es: {datos.max_row}\")\n",
        "\n",
        "# número de columnas del archivo\n",
        "print(f\"El número de columnas del archivo es: {datos.max_column}\")\n",
        "\n",
        "# crear una lista vacía para guardar el contenido del archivo\n",
        "contenido =[]\n",
        "\n",
        "# guardar el contenido del archivo en un arreglo de Python\n",
        "\n",
        "# ciclo para recorrer las filas del archivo\n",
        "for i in range(1, datos.max_row+1):\n",
        "  # lista vacía para guardar el contenido de una fila\n",
        "  contenido.append([])\n",
        "  # ciclo para recorrer las columnas del archivo\n",
        "  for j in range (1, datos.max_column+1):\n",
        "    # acceder al contenido de la casilla en la fila i, columnaj del archivo.\n",
        "    a = datos.cell(row = i, column = j)\n",
        "    # ver el contenido de la celda por consola\n",
        "    #print(f\"Soy la celda ubicada en la fila {i}, columna {j}: {a.value}\")\n",
        "    # agregar el valor a la lista con los contenidos\n",
        "    contenido[i-1].append(a.value)\n",
        "\n",
        "# cerrar el archivo de Excel\n",
        "nuevo.close()\n",
        "\n",
        "# observar por consola el contenido del arreglo (verificar lectura del archivo)\n",
        "print(f\"Este es el resultado de leer la información del archivo: \\n {contenido} \\n\")\n",
        "\n",
        "# identificar el tipo del elemento en la posición [0[0]] en contenido\n",
        "print(f\"El tipo del elemento {contenido[0][0]} ubicado en la posición [0][0] del arreglo es: {type(contenido[0][0])}\")\n",
        "print(f\"El tipo del elemento {contenido[1][2]} ubicado en la posición [1][2] del arreglo es: {type(contenido[1][2])}\")\n",
        "print(f\"El tipo del elemento {contenido[4][5]} ubicadoen la posición [4][5] del arreglo es: {type(contenido[4][5])}\")\n",
        "\n",
        "# agregar los promedios\n",
        "# agregar  en la primera lista el encabezado\n",
        "contenido[0].append(\"Promedio\")\n",
        "\n",
        "# calcular y agregar los promedios en cada fila\n",
        "\n",
        "#ciclo for para recorrer las filas con los datos de los estudiantes\n",
        "for i in range(1, len(contenido)):\n",
        "  # sumar los elementos numéricos de la segunda lista en contenido\n",
        "  promedio = sum(contenido[i][2:])/len(contenido[i][2:])\n",
        "  contenido[i].append(round(promedio,1))\n",
        "\n",
        "# mostrar los contenidos después de agregar los promedios\n",
        "print(f\"\\nEste es el contenido del arreglo después de agregar los promedios: \\n{contenido}\")\n",
        "  \n",
        "# abrir un archivo para guardar los resultados\n",
        "nuevoArchivo = openpyxl.Workbook()\n",
        "\n",
        "nuevaHoja=nuevoArchivo.active\n",
        "\n",
        "nuevaHoja.title=\"Promedios\"\n",
        "\n",
        "for fila in range(0, len(contenido)):\n",
        "  #print(fila)\n",
        "  #print(contenido[fila])\n",
        "  for celda in range(0,len(contenido[fila])):\n",
        "    #print(celda)\n",
        "    #print(contenido[fila][celda])\n",
        "    salida=nuevaHoja.cell(row= fila+1, column = celda+1)\n",
        "    salida.value=contenido[fila][celda]\n",
        "        \n",
        "# configurar el archivo de Excel\n",
        "\n",
        "# establecer el alto de la primera fila\n",
        "nuevaHoja.row_dimensions[1].height = 50\n",
        "\n",
        "# establecer el formato de la primera fila\n",
        "for m in range(1, len(contenido[0])+1):\n",
        "    nuevaHoja.cell(row = 1, column = m).font = openpyxl.styles.Font(size = 14, name = 'Times New Roman', bold = True, italic=True)\n",
        "    nuevaHoja.cell(row = 1, column = m).alignment = openpyxl.styles.Alignment(horizontal='center', vertical='center')\n",
        "\n",
        "# establecer el formato de las celdas con contenido numérico\n",
        "for k in range (2,len(contenido)+1):\n",
        "  for m in range(3, len(contenido[0])+1):\n",
        "    nuevaHoja.cell(row = k, column = m).font = openpyxl.styles.Font(size = 12, name = 'Arial', )\n",
        "    nuevaHoja.cell(row = k, column = m).alignment = openpyxl.styles.Alignment(horizontal='center', vertical='center')\n",
        "    nuevaHoja.cell(row = k, column = m).number_format=openpyxl.styles.number_format = '0.00'\n",
        "\n",
        "# establecer el ancho de cada columna\n",
        "# paso 1. encontrar las longitudes máximas de cada columna\n",
        "\n",
        "#crear lista para guardar las longitudes máximas\n",
        "maximos = []\n",
        "# ciclo for para encontrar el mayor valor de cada columna\n",
        "# recorrer las columnas\n",
        "for j in range (0, len(contenido[0])):\n",
        "  # inicializar el valor máximo\n",
        "  mayor = 0\n",
        "  #recorrer las filas\n",
        "  for i in range (0, len(contenido)):\n",
        "    # encontrar la celda de mayor longitud en la columna\n",
        "    if len(str(contenido[i][j])) > mayor:\n",
        "      mayor = len(contenido[i][j])\n",
        "  # agregar la mayor longitud con una holgura de 5\n",
        "  maximos.append(mayor+5)\n",
        "\n",
        "# paso 2. establecer las longitudes de las columnas\n",
        "#crear lista con los nombres de las columnas\n",
        "nombreCol=[\"A\",\"B\",\"C\",\"D\",\"E\",\"F\",\"G\",\"H\"]\n",
        "\n",
        "#ciclo for para establecer los anchos\n",
        "for k in range(0, len(contenido[0])):\n",
        "  # ancho de cada columna\n",
        "  nuevaHoja.column_dimensions[nombreCol[k]].width = maximos[k]\n",
        "\n",
        "# guardar los contenidos en el nuevo archivo\n",
        "nuevoArchivo.save(\"ejemploEscritura.xlsx\")\n",
        "\n",
        "#cerrar el archvivo\n",
        "nuevoArchivo.close()"
      ],
      "execution_count": null,
      "outputs": []
    },
    {
      "cell_type": "markdown",
      "metadata": {
        "id": "8LwtVO2-gKWP"
      },
      "source": [
        "# Manejo de archivos de Pyhton 3 en Google Colaboratory\n"
      ]
    },
    {
      "cell_type": "markdown",
      "metadata": {
        "id": "StQCT7L_VDUu"
      },
      "source": [
        "## Subir archivos a Colaboratory desde el pc \n",
        "\n",
        "Para subir archivos a Google Colaboratory se debe cargar la librería correspondiente y luego, buscar en la barra lateral la opción \"Archivos \\\\Subir\".\n",
        "\n",
        "**Importante: los archivos subidos se eliminarán si se reinicia el tiempo de ejecución.**\n"
      ]
    },
    {
      "cell_type": "code",
      "metadata": {
        "id": "nJXUDMFJN2AL"
      },
      "source": [
        "# la siguiente instrucción \"monta\" los archivos del Google Drive en Google Colaboratory\n",
        "from google.colab import drive\n",
        "drive.mount(\"/content/drive\")"
      ],
      "execution_count": null,
      "outputs": []
    },
    {
      "cell_type": "code",
      "metadata": {
        "id": "prBgGWLYODTD"
      },
      "source": [
        "# este comando permite verificar los archivos disponibles en la sesión del documento de Google Colab\n",
        "!ls"
      ],
      "execution_count": null,
      "outputs": []
    },
    {
      "cell_type": "code",
      "metadata": {
        "id": "4BC68Qf2QAih"
      },
      "source": [
        "# abrir un archivo del Google Drive\n",
        "miArchivo = open('/content/drive/My Drive/holaMundo.txt', 'w')\n",
        "\n",
        "# muestra en pantalla las características del archivo\n",
        "print(miArchivo)"
      ],
      "execution_count": null,
      "outputs": []
    },
    {
      "cell_type": "code",
      "metadata": {
        "id": "tyShMephVcnj"
      },
      "source": [
        "# la siguiente instrucción carga la librería para el manejo de archivos en Google Colaboratory\n",
        "from google.colab import files\n",
        "\n",
        "# seleccione el archivo o archivos a subir haciendo clic en \"Elegir archivos\"\n",
        "\n",
        "# genera un diccionario con las características de los archivos subidos\n",
        "arch_sub = files.upload()\n",
        "\n",
        "# imprime una relación de los archivos subidos\n",
        "for fn in arch_sub.keys():\n",
        "    print('Nombre del archivo subido: \"{name}\" tamaño del archivo: {length} bytes \\n'.format(\n",
        "      name=fn, length=len(arch_sub[fn])))"
      ],
      "execution_count": null,
      "outputs": []
    },
    {
      "cell_type": "markdown",
      "metadata": {
        "id": "8bkkb9sTd1Xv"
      },
      "source": [
        "# Descargar archivos al pc desde Colaboratory \n",
        "Downloading files to your local file system\n",
        "files.download will invoke a browser download of the file to the user's local computer."
      ]
    },
    {
      "cell_type": "code",
      "metadata": {
        "id": "pbUcKZhid1-p"
      },
      "source": [
        "# la siguiente instrucción carga la librería para el manejo de archivos en Google Colaboratory\n",
        "from google.colab import files\n",
        "\n",
        "# crear un archivo y escribir un contenido\n",
        "with open('ejemplo1.txt', 'w') as f:\n",
        "  f.write('Me encanta Fundamentos de Programación')\n",
        "\n",
        "# descargar el archivo al pc\n",
        "files.download('ejemplo1.txt')"
      ],
      "execution_count": null,
      "outputs": []
    },
    {
      "cell_type": "markdown",
      "metadata": {
        "id": "O_hNkwQMv7xB"
      },
      "source": [
        "# Subprogramas o módulos\n",
        "\n",
        "En el diseño de algoritmos se utiliza el principio “Divide y vencerás”. Este principio indica que es más productivo hacer varios programas e integrarlos luego (o invocarlos desde un programa principal) que realizar un solo programa con cientos o miles de líneas de código, lo cual resulta complejo de depurar.\n",
        "\n",
        "Un subprograma es otro término para una función, pero también se puede considerar como un conjunto de códigos que posee su propia estructura y puede ser invocado por otros programas. En Python estos bloques de código actúan de forma independiente. De cierta forma, todas las librerías en Python son subprogramas.\n",
        "\n",
        "Observe el archivo taller05.py (el cual es el archivo correspondiente a este taller). En él, se han definido funciones de ayuda para el taller, entre ellas la función generar_oracion() (La cual es una función anidada). **Para utilizarla desde otro programa es necesario importar el archivo original y posteriormente invocarlas como subprogramas.**\n",
        "\n",
        "**El archivo taller05.py debe encontrarse junto a este notebook.**"
      ]
    },
    {
      "cell_type": "code",
      "metadata": {
        "id": "JwPZS1Cansra"
      },
      "source": [
        "# importar el archivo taller05.\n",
        "# el archivo debe encontrarse en la misma carpeta de este taller.\n",
        "# ejecute estas instrucciones y observe el resultado obtenido\n",
        "\n",
        "import taller05\n",
        "\n",
        "print(taller05.generar_oracion())"
      ],
      "execution_count": null,
      "outputs": []
    },
    {
      "cell_type": "markdown",
      "metadata": {
        "id": "m3HNMfVgB086"
      },
      "source": [
        "### otro ejemplo de importar una función desde un archivo"
      ]
    },
    {
      "cell_type": "code",
      "metadata": {
        "id": "rwaIynpcnsrc"
      },
      "source": [
        "# ¿Por qué no hace que lo saluden?\n",
        "\n",
        "# importar el archivo que contiene la función\n",
        "import taller05\n",
        "\n",
        "# llamar a la funcion salúdame que se encuentra en el archivo taller05.py\n",
        "taller05.saludame()"
      ],
      "execution_count": null,
      "outputs": []
    },
    {
      "cell_type": "markdown",
      "metadata": {
        "id": "W1NDefwiCA6-"
      },
      "source": [
        "### Inicio del juego de papel, piedra, tijera"
      ]
    },
    {
      "cell_type": "code",
      "metadata": {
        "id": "O-8Ir9P_BSUs"
      },
      "source": [
        "# importar el archivo que contiene la función\n",
        "import taller05 as t5\n",
        "\n",
        "# solicitar acción y guardarla en la variable jugadaHumano\n",
        "jugadaHumano = t5.solicitar_accion()\n",
        "print(jugadaHumano)"
      ],
      "execution_count": null,
      "outputs": []
    }
  ]
}