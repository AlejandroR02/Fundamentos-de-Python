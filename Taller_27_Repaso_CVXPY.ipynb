{
  "nbformat": 4,
  "nbformat_minor": 0,
  "metadata": {
    "colab": {
      "provenance": [],
      "toc_visible": true,
      "authorship_tag": "ABX9TyOv6itzQP4pFTFTtsSfX8iQ",
      "include_colab_link": true
    },
    "kernelspec": {
      "name": "python3",
      "display_name": "Python 3"
    },
    "language_info": {
      "name": "python"
    }
  },
  "cells": [
    {
      "cell_type": "markdown",
      "metadata": {
        "id": "view-in-github",
        "colab_type": "text"
      },
      "source": [
        "<a href=\"https://colab.research.google.com/github/gabrielawad/talleresGoogleColab/blob/main/Taller_27_Repaso_CVXPY.ipynb\" target=\"_parent\"><img src=\"https://colab.research.google.com/assets/colab-badge.svg\" alt=\"Open In Colab\"/></a>"
      ]
    },
    {
      "cell_type": "markdown",
      "source": [
        "## «*Si las mujeres bajaran los brazos, el cielo caería*».\n",
        "\n",
        "### Proverbio africano"
      ],
      "metadata": {
        "id": "hgexziulqjNK"
      }
    },
    {
      "cell_type": "markdown",
      "source": [
        "# Taller 27 Repaso CVXPY\n",
        "\n",
        "En este taller repasará los conceptos básicos de Python 3 relativos a la librería CVXPY.\n",
        "\n",
        "CVXPY no es una librería nativa de Python por lo que requiere ser instalada antes de ser invocada. Sin embargo, esta librería sí está preinstalada en Google Colaboratory por lo que basta invocarla para poder usar sus funcionalidades.\n",
        "\n",
        "Puede consultar mayor información en: [CVXPY]((https://www.cvxpy.org/))\n",
        "\n",
        "**Características generales de CVXPY**\n",
        "\n",
        "CVXPY es un lenguaje de modelado para optimización de problemas convexos, que funciona como una librería de Python.\n",
        "\n",
        "Su principal ventaja es que permite la formulación de problemas por medio de expresiones algebraicas o matriciales. CVXPY automáticamente transforma el problema a su forma estándar, lo resuelve por medio de un solvers, y entrega los resultados.\n",
        "\n",
        "Es decir, simplifica el proceso de optimización computacional ya que es capaz de resolver el problema sin necesidad de convertirlo a las formas estándares requeridas por los solvers."
      ],
      "metadata": {
        "id": "20R1VWxkq6oJ"
      }
    },
    {
      "metadata": {
        "id": "Qqb6pVqSpExP"
      },
      "cell_type": "markdown",
      "source": [
        "## Tipos de variables en CVXPY\n",
        "\n",
        "CVXPY permite crear variables, parámetros escalares y arreglos (vectores y matrices); para tal efecto sigue la sintaxis (formatos) de la librería [NumPy](https://docs.scipy.org/doc/numpy/index.html).\n"
      ]
    },
    {
      "metadata": {
        "id": "jFPNMR1rpR-c"
      },
      "cell_type": "code",
      "source": [
        "# Importar la librería que se va a utilizar\n",
        "import cvxpy as cvx\n",
        "\n",
        "# Crear una variable de tipo escalar\n",
        "var_esc = cvx.Variable()\n",
        "\n",
        "# Crear una variable escalar con restricción de no negatividad\n",
        "var_esc_no_neg = cvx.Variable(nonneg = True)\n",
        "\n",
        "# Crear una variable escalar entera\n",
        "var_esc_ent = cvx.Variable(integer=True)\n",
        "\n",
        "# Crear un parámetro con un valor específico\n",
        "b = 8\n",
        "\n",
        "# Crear una variable de tipo arreglo (m,1). Contiene \"m\" filas y una columna\n",
        "c = cvx.Variable((3,1))\n",
        "\n",
        "# Crear una parámetro de tipo arreglo (m,1) con valores específicos\n",
        "d = [3, 2, 4]\n",
        "\n",
        "# Crear una variable de tipo arreglo (m,n). Contiene \"m\" filas y \"n\" columnas\n",
        "e = cvx.Variable((4, 3))\n",
        "\n",
        "# Crear un parámetro de tipo arreglo (m,n) con valores específicos\n",
        "f = [[5, 6, 7],[2, 6, 9],[3, 8, 5],[9, 5,1 ]]"
      ],
      "execution_count": null,
      "outputs": []
    },
    {
      "cell_type": "markdown",
      "source": [
        "## Ejemplo 00: minimizar sujeto a restricciones\n",
        "\n",
        "Minimizar 3x + 8y\n",
        "\n",
        "sujeto a:\n",
        "\n",
        "x + y >= 50\n",
        "\n",
        "x - y <= 20\n",
        "\n",
        "x, y no negativos"
      ],
      "metadata": {
        "id": "LdmJshTLGPlm"
      }
    },
    {
      "cell_type": "code",
      "source": [
        "# Importar la librería que se va a utilizar\n",
        "import cvxpy as cvx\n",
        "\n",
        "# Crear las variables de decisión y establecer restricciones de no negatividad\n",
        "x = cvx.Variable(nonneg = True)\n",
        "y = cvx.Variable(nonneg = True)\n",
        "\n",
        "# Definir la función objetivo\n",
        "obj_00 = cvx.Minimize(3*x + 8*y)\n",
        "\n",
        "# Establecer las restricciones\n",
        "restricciones_00 = [\n",
        "\n",
        "x + y >= 50,\n",
        "\n",
        "x - y <= 20\n",
        "]\n",
        "\n",
        "# Configurar el problema\n",
        "problema_00 = cvx.Problem(obj_00, restricciones_00)\n",
        "\n",
        "# Obtener el valor óptimo\n",
        "problema_00.solve()\n",
        "\n",
        "# Mostrar el estado de la solución\n",
        "print(\"Estado de la solución:\", problema_00.status)\n",
        "\n",
        "# Mostrar el valor óptimo de la función objetivo\n",
        "print(\"Valor óptimo de la función objetivo:\", problema_00.value)\n",
        "\n",
        "# Mostrar los valores óptimos de las variables de decisión\n",
        "print(\"Valores óptimos de las variables de decisión:\", x.value, y.value)"
      ],
      "metadata": {
        "id": "Qd11Sd6JHXhk"
      },
      "execution_count": null,
      "outputs": []
    },
    {
      "cell_type": "markdown",
      "source": [
        "## Multiplicaciones en CVXPY"
      ],
      "metadata": {
        "id": "YAokBtjFqdnM"
      }
    },
    {
      "cell_type": "code",
      "source": [
        "# Importar las librerías que se van a utilizar\n",
        "import cvxpy as cvx\n",
        "\n",
        "# Crear un parámetro escalar\n",
        "par_esc_1 = cvx.Parameter()\n",
        "par_esc_1.value = 2\n",
        "\n",
        "par_esc_2 = cvx.Parameter()\n",
        "par_esc_2.value = 5\n",
        "\n",
        "# Multiplicar los parámetros escalares\n",
        "prod_esc = par_esc_1 * par_esc_2\n",
        "print(\"El prducto de los escalares es: \\n \", prod_esc.value)\n",
        "\n",
        "# Crear un parámetro vectorial\n",
        "par_vec_1 = cvx.Parameter((2,2))\n",
        "# |1 3|\n",
        "# |2 4|\n",
        "par_vec_1.value = [[1,2],[3,4]]\n",
        "\n",
        "par_vec_2 = cvx.Parameter((2,2))\n",
        "# |5 7|\n",
        "# |6 8|\n",
        "par_vec_2.value = [[5,6],[7,8]]\n",
        "\n",
        "# Multiplicar un escalar por un vector\n",
        "prod_esc_vec = par_esc_1 * par_vec_2\n",
        "print(\"Producto de un escalar y un vector: \\n\", prod_esc_vec.value)\n",
        "\n",
        "# Multiplicar los parámetros vectoriales\n",
        "prod_arreglos = par_vec_1 @ par_vec_2\n",
        "print(\"Producto de dos arreglos:\\n\", prod_arreglos.value)\n",
        "\n",
        "# Multiplicar los parámetros vectoriales con la función multiply\n",
        "prod_punto_arreglos = cvx.multiply(par_vec_1, par_vec_2)\n",
        "print(\"Producto punto de dos arreglos:\\n\", prod_punto_arreglos.value)\n",
        "\n",
        "# Sumar el producto punto de dos arreglos\n",
        "suma_arreglos = cvx.sum(prod_punto_arreglos)\n",
        "print(\"Suma del producto punto de dos arreglos:\\n\", suma_arreglos.value)"
      ],
      "metadata": {
        "id": "L5csbXIuqnlj"
      },
      "execution_count": null,
      "outputs": []
    },
    {
      "metadata": {
        "id": "-EQuW_Sa4VYl"
      },
      "cell_type": "markdown",
      "source": [
        "## Resolver un ejercicio en forma algebraica y en forma matricial\n",
        "\n",
        "Ejercicio a resolver:\n",
        "\n",
        "Minimizar 3x + 8y\n",
        "\n",
        "sujeto a:\n",
        "\n",
        "x + y >= 50\n",
        "\n",
        "x - y <= 20\n",
        "\n",
        "x, y no negativos\n"
      ]
    },
    {
      "cell_type": "markdown",
      "source": [
        "### Solución algebráica"
      ],
      "metadata": {
        "id": "qUmvXyWHhFN2"
      }
    },
    {
      "metadata": {
        "id": "JnS1jB640lF4"
      },
      "cell_type": "code",
      "source": [
        "# Este código presenta la solución de un ejercicio de forma algebraica\n",
        "\n",
        "print (\"Solución algebraica\")\n",
        "# Importar la librería que se va a utilizar\n",
        "import cvxpy as cvx\n",
        "\n",
        "# Crear las variables a optimizar\n",
        "x = cvx.Variable()\n",
        "y = cvx.Variable()\n",
        "\n",
        "# Definir la función objetivo\n",
        "obj_00 = cvx.Minimize(3*x + 8*y)\n",
        "\n",
        "# Establecer las restricciones\n",
        "restricciones_00 = [\n",
        "x + y >= 50,\n",
        "x - y <= 20,\n",
        "x >= 0,\n",
        "y >= 0\n",
        "]\n",
        "\n",
        "# Configurar el problema\n",
        "prob_00 = cvx.Problem(obj_00, restricciones_00)\n",
        "\n",
        "# Obtener el valor óptimo, actualizar el estado del problema\n",
        "#y los valores de todas las variables del problema\n",
        "prob_00.solve()\n",
        "\n",
        "# Mostrar el estado de la solución algebraica\n",
        "print(\"Estado de la solución algebraica:\", prob_00.status)\n",
        "\n",
        "# Mostrar el valor óptimo de la función objetivo algebraica\n",
        "print(\"Valor óptimo de la función objetivo algebraica:\", prob_00.value)\n",
        "\n",
        "# Mostrar los valores óptimos de las variables de decisión algebraica\n",
        "print(\"Valores óptimos de las variables de decisión algebraica:\",\n",
        "      x.value, y.value, \"\\n\")"
      ],
      "execution_count": null,
      "outputs": []
    },
    {
      "metadata": {
        "id": "v4t0WmbX7uUp"
      },
      "cell_type": "markdown",
      "source": [
        "### Solución matricial\n",
        "\n",
        "El siguiente código resuelve el mismo ejercicio de forma matricial.\n",
        "\n",
        "Ejercicio a resolver:\n",
        "\n",
        "Minimizar 3x + 8y\n",
        "\n",
        "sujeto a:\n",
        "\n",
        "x + y >= 50\n",
        "\n",
        "x - y <= 20\n",
        "\n",
        "x, y no negativos\n",
        "\n",
        "Para resolverlo se realizan los siguientes ajustes:\n",
        "\n",
        "*  se crea un arreglo con las variables de decisión (**x**)\n",
        "*  se define un arreglo con los coeficientes de costos (**c**)\n",
        "*  se define el arreglo con la matriz de coeficientes técnicos (**A**)\n",
        "*  se define el arreglo con las condiciones límites o restricciones (**b**)\n",
        "\n",
        "**Nota importante**: antes de definir **A** y **b** se llevan las inecuaciones a una forma estándar. Es decir que todas queden en el mismo sentido.\n",
        "\n",
        "**inecuaciones iniciales**\n",
        "\n",
        "x + y >= 50\n",
        "\n",
        "x  - y <= 20\n",
        "\n",
        "x >= 0\n",
        "\n",
        "y >= 0\n",
        "\n",
        "Es necesario transformar la segunda inecuación en una del tipo **mayor igual**, para lograrlo se multiplican ambos lados de la inecuación por -1.\n",
        "\n",
        "**inecuaciones transformadas**\n",
        "\n",
        "   x + y >=  50\n",
        "   \n",
        "    \n",
        " \\-x + y >= -20\n",
        "\n",
        " x >= 0\n",
        "\n",
        " y >= 0\n",
        "\n",
        "De donde:\n",
        "\n",
        "A=[[1, -1, 1, 0], [1, 1, 0, 1]]\n",
        "\n",
        "b= [50, -20, 0, 0]\n",
        "\n",
        "\n"
      ]
    },
    {
      "metadata": {
        "id": "fsLKvF04QI1a"
      },
      "cell_type": "code",
      "source": [
        "# Este código presenta la solución de un ejercicio de forma matricial\n",
        "\n",
        "print (\"Solución matricial\")\n",
        "# Importar la librería que se va a utilizar\n",
        "import cvxpy as cvx\n",
        "\n",
        "# Crear un arreglo con las variables a optimizar\n",
        "arr_x = cvx.Variable((2,1))\n",
        "\n",
        "# Crear el arreglo con los coeficientes de costos\n",
        "arr_c =[[3],[8]]\n",
        "\n",
        "# Definir la función objetivo\n",
        "obj_00_arr = cvx.Minimize(arr_c @ arr_x)\n",
        "\n",
        "# Establecer el arreglo los coeficientes técnicos\n",
        "arr_A=[[1, -1, 1, 0], [1, 1, 0, 1]]\n",
        "\n",
        "# Crear un arreglo con condiciones límites (restricciones)\n",
        "arr_b= [[50, -20, 0, 0]]\n",
        "\n",
        "# Establecer las restricciones en forma matricial\n",
        "arr_restricciones = [arr_A @ arr_x >= arr_b]\n",
        "\n",
        "# Configurar el problema\n",
        "prob_00_arr = cvx.Problem(obj_00_arr, arr_restricciones)\n",
        "\n",
        "# Obtener el valor óptimo, actualizar el estado del problema\n",
        "#y los valores de todas las variables del problema\n",
        "prob_00_arr.solve()\n",
        "\n",
        "# Mostrar el estado de la solución matricial\n",
        "print(\"Estado de la solución matricial:\", prob_00_arr.status)\n",
        "\n",
        "# Mostrar el valor óptimo de la función objetivo matricial\n",
        "print(\"Valor óptimo de la función objetivo matricial:\", prob_00_arr.value)\n",
        "\n",
        "# Mostrar los valores óptimos de las variables de decisión matricial\n",
        "print(\"Valores óptimos de las variables de decisión matricial:\",\n",
        "      arr_x[0].value, arr_x[1].value, \"\\n\")"
      ],
      "execution_count": null,
      "outputs": []
    },
    {
      "cell_type": "markdown",
      "source": [
        "### Solución matricial utilizando NumPy"
      ],
      "metadata": {
        "id": "xFqtSUwALgcD"
      }
    },
    {
      "cell_type": "code",
      "source": [
        "# Este código presenta la solución de un ejercicio de forma matricial\n",
        "# utilizando NumPy\n",
        "\n",
        "print (\"Solución matricial utilizando NumPy\")\n",
        "# Importar las librerías que se van a utilizar\n",
        "import numpy as np\n",
        "import cvxpy as cvx\n",
        "\n",
        "# Crear un arreglo con las variables a optimizar\n",
        "arr_x_np = cvx.Variable((2,1))\n",
        "\n",
        "# Crear el arreglo con los coeficientes de costos\n",
        "arr_c_np = np.array([3, 8])\n",
        "\n",
        "# Definir la función objetivo\n",
        "obj_00_arr_np = cvx.Minimize(arr_c_np @ arr_x_np)\n",
        "\n",
        "# Establecer el arreglo los coeficientes técnicos\n",
        "arr_A_np = np.array([[1, 1], [-1, 1],[1,0], [0, 1]])\n",
        "\n",
        "# Crear un arreglo con condiciones límites (restricciones)\n",
        "arr_b_np= np.array([[50], [-20], [0], [0]])\n",
        "#arr_b_np= np.array([50, -20, 0, 0]).reshape((4,1))\n",
        "\n",
        "# Establecer las restricciones en forma matricial\n",
        "arr_restricciones_np = [arr_A_np @ arr_x_np >= arr_b_np]\n",
        "\n",
        "# Configurar el problema\n",
        "prob_00_arr_np = cvx.Problem(obj_00_arr_np, arr_restricciones_np)\n",
        "\n",
        "# Obtener el valor óptimo, actualizar el estado del problema\n",
        "#y los valores de todas las variables del problema\n",
        "prob_00_arr_np.solve()\n",
        "\n",
        "# Mostrar el estado de la solución matricial\n",
        "print(\"Estado de la solución matricial:\", prob_00_arr_np.status)\n",
        "\n",
        "# Mostrar el valor óptimo de la función objetivo matricial\n",
        "print(\"Valor óptimo de la función objetivo matricial:\", prob_00_arr_np.value)\n",
        "\n",
        "# Mostrar los valores óptimos de las variables de decisión matricial\n",
        "print(\"Valores óptimos de las variables de decisión matricial:\",\n",
        "      arr_x_np[0].value, arr_x_np[1].value, \"\\n\")"
      ],
      "metadata": {
        "id": "-5mkZBhDLkiB"
      },
      "execution_count": null,
      "outputs": []
    },
    {
      "cell_type": "markdown",
      "source": [
        "### Solución matricial cargando los datos desde una url"
      ],
      "metadata": {
        "id": "vswWuRIxYIj4"
      }
    },
    {
      "cell_type": "code",
      "source": [
        "# Este código presenta la solución de un ejercicio de forma matricial\n",
        "# cargando los datos desde una url\n",
        "\n",
        "print (\"Solución matricial obteniendo datos desde una url\")\n",
        "# Importar las librerías que se van a utilizar\n",
        "import numpy as np\n",
        "import cvxpy as cvx\n",
        "\n",
        "# Crear un arreglo con las variables a optimizar\n",
        "arr_url_x = cvx.Variable((2,1))\n",
        "\n",
        "# Crear el arreglo con los coeficientes de costos\n",
        "arr_url_c = cvx.Parameter((2,1))\n",
        "\n",
        "# Cargar coeficientes de costos desde una url\n",
        "# Establecer la ruta de los coeficientes de costos\n",
        "ruta_c ='https://docs.google.com/spreadsheets/d/e/2PACX-1vRFLriI2aliprDmDCCKXKz\\\n",
        "8dBQFZGSrw7We_bq6tQKXPdDpAffIjtZ9fau9HhXJIPfelNZQ1hpBY9fH/pub?output=csv'\n",
        "\n",
        "# Cargar los coeficientes de costos con el método np.loadtxt()\n",
        "arr_url_c = np.loadtxt(ruta_c, delimiter=\",\", dtype=float)\n",
        "print(\"Los coeficientes de costos son: \\n\", arr_url_c, \"\\n\")\n",
        "\n",
        "# Definir la función objetivo\n",
        "obj_00_arr_url = cvx.Minimize(arr_url_c @ arr_url_x)\n",
        "\n",
        "# Crear el arreglo con los coeficientes técnicos\n",
        "arr_url_A = cvx.Parameter((4,2))\n",
        "\n",
        "# Cargar los coeficientes técnicos desde una url\n",
        "# Establecer la ruta de los coeficientes técnicos\n",
        "ruta_A ='https://docs.google.com/spreadsheets/d/e/2PACX-1vSwX-JTXjqsm2fM7pJmvw\\\n",
        "UbSUb8QQdhCPscJTSLLe_FS8NSsTR_WeqPbzOz40SVo_gnVr5EU4PN9P_r/pub?output=csv'\n",
        "\n",
        "# Cargar el arreglo con los coeficientes técnicos con el método np.loadtxt()\n",
        "arr_url_A = np.loadtxt(ruta_A, delimiter=\",\", dtype=float)\n",
        "print(\"Los coeficientes técnicos son: \\n\", arr_url_A, \"\\n\")\n",
        "\n",
        "# Crear el arreglo con las restricciones\n",
        "arr_url_b = cvx.Parameter((4,1))\n",
        "\n",
        "# Cargar las restricciones desde una url\n",
        "# Establecer la ruta de las restricciones\n",
        "ruta_b='https://docs.google.com/spreadsheets/d/e/2PACX-1vSILEeSPXklgIr36YnJe\\\n",
        "Kw1Ab4tFYF4x04IxqhCrDfyYzsqxmPEHjz1ZjKeGQh2IcELgDzu0sskTXCF/pub?output=csv'\n",
        "\n",
        "# Cargar el arreglo con las restricciones con el método np.loadtxt()\n",
        "arr_url_b= np.loadtxt(ruta_b, delimiter=\",\", dtype=float).reshape((4,1))\n",
        "print(\"Las restricciones son: \\n\", arr_url_b, \"\\n\")\n",
        "\n",
        "# Establecer las restricciones en forma matricial\n",
        "arr_url_restricciones = [arr_url_A @ arr_url_x >= arr_url_b]\n",
        "\n",
        "# Configurar el problema\n",
        "prob_00_arr_url = cvx.Problem(obj_00_arr_url, arr_url_restricciones)\n",
        "\n",
        "# Obtener el valor óptimo, actualizar el estado del problema\n",
        "#y los valores de todas las variables del problema\n",
        "prob_00_arr_url.solve()\n",
        "\n",
        "# Mostrar el estado de la solución matricial\n",
        "print(\"Estado de la solución matricial:\", prob_00_arr_url.status)\n",
        "\n",
        "# Mostrar el valor óptimo de la función objetivo matricial\n",
        "print(\"Valor óptimo de la función objetivo matricial:\", prob_00_arr_url.value)\n",
        "\n",
        "# Mostrar los valores óptimos de las variables de decisión matricial\n",
        "print(\"Valores óptimos de las variables de decisión matricial:\",\n",
        "      arr_url_x[0].value, arr_url_x[1].value, \"\\n\")"
      ],
      "metadata": {
        "id": "9ikbGM7mYTz8"
      },
      "execution_count": null,
      "outputs": []
    },
    {
      "cell_type": "markdown",
      "source": [
        "## Ejercicio 00\n",
        "\n",
        "Un comerciante dispone de quinientos mil pesos para comprar naranjas. Le ofrecen dos tipos de naranjas: las de tipo A a $5.000 el kilo y las de tipo B a \\$8.000 pesos el kilo. En su vehículo puede transportar hasta 700 kilos de naranjas. Planea vender el kilo de naranjas tipo A a \\$5.500 el kilo, y el kilo de tipo B a \\$9.000. ¿Cuántos kilos de cada tipo de naranja debe comprar si desea maximizar las utilidades?\n",
        "\n",
        "**Resolver en forma algebraica y en forma matricial.**\n",
        "\n"
      ],
      "metadata": {
        "id": "umzGLIYkt3J4"
      }
    },
    {
      "cell_type": "code",
      "source": [
        "# Solución ejercicio 00 de forma algebraica\n"
      ],
      "metadata": {
        "id": "qer1aYrlt_tw"
      },
      "execution_count": null,
      "outputs": []
    },
    {
      "cell_type": "code",
      "source": [
        "# Solución ejercicio 00 de forma matricial\n"
      ],
      "metadata": {
        "id": "t85gKBhMuJuj"
      },
      "execution_count": null,
      "outputs": []
    },
    {
      "cell_type": "markdown",
      "source": [
        "## Ejercicio 01\n",
        "\n",
        "Una compañía fabrica y venden dos modelos de pantalones A y B. Para su fabricación se necesita un trabajo manual de 20 minutos para el modelo A y de 30 minutos para el B; y un trabajo de máquina de 20 minutos para el modelo A y de 10 minutos para B.\n",
        "\n",
        "Se dispone para el trabajo manual de 100 horas al mes y para la máquina 80 horas al mes. El beneficio por unidad es de 15.000 y 10.000 pesos para A y B  respectivamente. Encontrar el beneficio máximo.\n",
        "\n",
        "**Resolver en forma algebraica y en forma matricial.**"
      ],
      "metadata": {
        "id": "pNgK0L_LuULE"
      }
    },
    {
      "cell_type": "code",
      "source": [
        "# Solución ejercicio 01 de forma algebraica\n"
      ],
      "metadata": {
        "id": "KQUtr_KXuULF"
      },
      "execution_count": null,
      "outputs": []
    },
    {
      "cell_type": "code",
      "source": [
        "# Solución ejercicio 01 de forma matricial\n"
      ],
      "metadata": {
        "id": "Fl0RlZ_FuULG"
      },
      "execution_count": null,
      "outputs": []
    },
    {
      "cell_type": "markdown",
      "source": [
        "## Ejercicio 02\n",
        "\n",
        "En una porcícola se utiliza una dieta para engordar marranos con una composición mínima de 13 unidades de una sustancia A y otras 12 de una sustancia B. En el mercado sólo se encuentra dos clases de compuestos: el tipo X con una composición de dos unidades de A y tres de B, y el otro tipo Y con una composición de cuatro unidades de A y tres de B. El precio del tipo X es de \\$10.000 y del tipo Y es de \\$30.000. ¿Qué cantidades se han de comprar de cada tipo para cubrir las necesidades con un coste mínimo?\n",
        "\n",
        "**Resolver en forma algebraica y en forma matricial.**"
      ],
      "metadata": {
        "id": "YnAdfnjAuU07"
      }
    },
    {
      "cell_type": "code",
      "source": [
        "# Solución ejercicio 02 de forma algebraica\n"
      ],
      "metadata": {
        "id": "GzKcrEEIuU08"
      },
      "execution_count": null,
      "outputs": []
    },
    {
      "cell_type": "code",
      "source": [
        "# Solución ejercicio 02 de forma matricial\n"
      ],
      "metadata": {
        "id": "e49SlNJhuU08"
      },
      "execution_count": null,
      "outputs": []
    }
  ]
}